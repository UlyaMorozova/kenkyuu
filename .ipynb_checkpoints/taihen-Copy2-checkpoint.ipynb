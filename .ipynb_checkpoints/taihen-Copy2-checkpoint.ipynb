{
 "cells": [
  {
   "cell_type": "code",
   "execution_count": 1,
   "id": "4194b9d5-a73b-4f04-b198-8f8abff113a7",
   "metadata": {},
   "outputs": [],
   "source": [
    "import matplotlib.pyplot as plt\n",
    "from mpl_toolkits.mplot3d import Axes3D\n",
    "import numpy as np\n",
    "import cmath\n",
    "from mpmath import nsum, exp, inf\n",
    "import math \n",
    "from scipy.integrate import quad\n",
    "import sympy as sym\n",
    "\n",
    "\n",
    "K = 5\n",
    "myu = 1.25"
   ]
  },
  {
   "cell_type": "code",
   "execution_count": 2,
   "id": "4672eb6e-2304-489f-847d-b1114272944c",
   "metadata": {},
   "outputs": [],
   "source": [
    "def eq_R(p):    # Функция для нахождения корней комплексного уравнения\n",
    "    x = sym.Symbol('x', real = True)\n",
    "    sol = sym.solve(x**(K+1) - (p+1) * x + p, x)\n",
    "    return sol\n"
   ]
  },
  {
   "cell_type": "code",
   "execution_count": 3,
   "id": "eb9b1b8b-d8c0-4921-9230-9650f17e3397",
   "metadata": {},
   "outputs": [],
   "source": [
    "def F(t, lm, a):    # Подынтегральная функция\n",
    "    return lm**a * t**(a-1)/(math.factorial(a-1))*np.exp(-lm*t)\n"
   ]
  },
  {
   "cell_type": "code",
   "execution_count": 4,
   "id": "cbbd6fe0-fdd8-4bf6-980b-103ffa78e82e",
   "metadata": {},
   "outputs": [],
   "source": [
    "sol = []\n",
    "R = []\n",
    "ro = np.linspace(0, 4.9, 20*K)  # Определение нагрузки системы\n",
    "\n",
    "for i in range(len(ro)):   # Берем только те корни, которые по модулю меньше 1\n",
    "    sol = eq_R(ro[i])\n",
    "    for k in range(len(sol)):\n",
    "        if abs(sol[k]) < 1:\n",
    "            R.append(sol[k])\n",
    "R = [sym.N(solution) for solution in R]\n"
   ]
  },
  {
   "cell_type": "code",
   "execution_count": 5,
   "id": "98378128-2c5e-4b75-a0a8-63fde2a0bd62",
   "metadata": {},
   "outputs": [
    {
     "name": "stdout",
     "output_type": "stream",
     "text": [
      "0.999238326631416\n"
     ]
    },
    {
     "data": {
      "text/plain": [
       "[0.199975333332807,\n",
       " 0.199530607627699,\n",
       " 0.199830376186983,\n",
       " 0.199926676151120,\n",
       " 0.199975333332807]"
      ]
     },
     "execution_count": 5,
     "metadata": {},
     "output_type": "execute_result"
    }
   ],
   "source": [
    "q = []\n",
    "q_K1 = ((ro[K-1]/(1-R[K-1]) + nsum(lambda i: nsum(lambda k: R[K-1]**k, [0,i]), [0,K-2]))/(ro[K-1] + 1 - R[K-1]**K) + 1)**(-1)\n",
    "Q_sum = 0\n",
    "j = 0\n",
    "\n",
    "while True:\n",
    "    if Q_sum >= 0.999:\n",
    "        break\n",
    "    if 0 <= j <= K-2:\n",
    "        q_j = q_K1 * nsum(lambda i: R[j]**i, [0,j]) / (ro[j] + 1 - R[j]**K)\n",
    "        q.insert(j, q_j)\n",
    "    elif j == K-1:\n",
    "        q_j = q_K1\n",
    "        q.insert(j, q_j)\n",
    "    elif j == K:\n",
    "        q_j = q_K1 / (ro[j] + 1 - R[j]**K)\n",
    "        q.insert(j, q_j)\n",
    "    elif j > K:\n",
    "        q_j = q[K] * R[j]**(j - K)\n",
    "        q.insert(j, q_j)\n",
    "    j += 1\n",
    "    Q_sum += q_j\n",
    "print(Q_sum)\n",
    "q"
   ]
  },
  {
   "cell_type": "code",
   "execution_count": 6,
   "id": "7bdda655-5743-415d-9cf3-2ef50629a985",
   "metadata": {},
   "outputs": [],
   "source": [
    "x = np.linspace(0, 4.99, len(ro)) # Определение Х\n",
    "lya = ro / myu\n",
    "dx = 0.001"
   ]
  },
  {
   "cell_type": "code",
   "execution_count": 21,
   "id": "5fbe685d-900a-4689-b51f-abd70e9439a4",
   "metadata": {},
   "outputs": [],
   "source": [
    "def W_function(x):  # Функция W(x)\n",
    "    j = 0\n",
    "    W_j = 0\n",
    "    if x <= 0:\n",
    "        return 0 \n",
    "    t = np.append(np.arange(0,x,dx),x)\n",
    "    bj = j // K\n",
    "    aj = K * (bj + 1) - j - 1\n",
    "\n",
    "    while j <= len(q):\n",
    "        while aj > 0 and bj > 0:\n",
    "            Ia = (dx/3)*(F(t[0],lya[j],aj)+2*np.sum(F(t[2:-2:2],lya[j],aj))+4*np.sum(F(t[1:-1:2],lya[j],aj))+F(t[-1], lya[j],aj))\n",
    "            Ib = (dx/3)*(F(t[0],myu,bj)+2*np.sum(F(t[2:-2:2],myu,bj))+4*np.sum(F(t[1:-1:2],myu,bj))+F(t[-1],myu,bj))\n",
    "            W_j += q[j]*Ia*Ib\n",
    "            j += 1\n",
    "            bj = j // K + 1\n",
    "            aj = K * (bj + 1) - j - 1\n",
    "            if j > len(q):\n",
    "                break\n",
    "                \n",
    "        while aj == 0 and bj > 0:\n",
    "            Ib = (dx/3)*(F(t[0],myu,bj)+2*np.sum(F(t[2:-2:2],myu,bj))+4*np.sum(F(t[1:-1:2],myu,bj))+F(t[-1],myu,bj))\n",
    "            W_j += q[j]*Ib\n",
    "            j += 1\n",
    "            bj = j // K + 1\n",
    "            aj = K * (bj + 1) - j - 1\n",
    "            if j > len(q):\n",
    "                break\n",
    "\n",
    "        while aj > 0 and bj == 0:\n",
    "            Ia = (dx/3)*(F(t[0],lya[j],aj)+2*np.sum(F(t[2:-2:2],lya[j],aj))+4*np.sum(F(t[1:-1:2],lya[j],aj))+F(t[-1], lya[j],aj))\n",
    "            W_j += q[j]*Ia\n",
    "            j += 1\n",
    "            bj = j // K + 1\n",
    "            aj = K * (bj + 1) - j - 1\n",
    "            if j > len(q):\n",
    "                break\n",
    "            \n",
    "        if aj == bj == 0 or j > len(q):\n",
    "            W_j = 1\n",
    "            break\n",
    "    \n",
    "    return W_j"
   ]
  },
  {
   "cell_type": "code",
   "execution_count": 22,
   "id": "b29a837c-3d64-4481-b6b3-fc01a1a294a7",
   "metadata": {},
   "outputs": [
    {
     "ename": "IndexError",
     "evalue": "list index out of range",
     "output_type": "error",
     "traceback": [
      "\u001b[1;31m---------------------------------------------------------------------------\u001b[0m",
      "\u001b[1;31mIndexError\u001b[0m                                Traceback (most recent call last)",
      "Cell \u001b[1;32mIn[22], line 3\u001b[0m\n\u001b[0;32m      1\u001b[0m W_j \u001b[38;5;241m=\u001b[39m []\n\u001b[0;32m      2\u001b[0m \u001b[38;5;28;01mfor\u001b[39;00m j \u001b[38;5;129;01min\u001b[39;00m \u001b[38;5;28mrange\u001b[39m(\u001b[38;5;28mlen\u001b[39m(x)):\n\u001b[1;32m----> 3\u001b[0m     w \u001b[38;5;241m=\u001b[39m \u001b[43mW_function\u001b[49m\u001b[43m(\u001b[49m\u001b[43mx\u001b[49m\u001b[43m[\u001b[49m\u001b[43mj\u001b[49m\u001b[43m]\u001b[49m\u001b[43m)\u001b[49m\n\u001b[0;32m      4\u001b[0m     W_j\u001b[38;5;241m.\u001b[39mappend(w)\n\u001b[0;32m      5\u001b[0m W_j\n",
      "Cell \u001b[1;32mIn[21], line 14\u001b[0m, in \u001b[0;36mW_function\u001b[1;34m(x)\u001b[0m\n\u001b[0;32m     12\u001b[0m Ia \u001b[38;5;241m=\u001b[39m (dx\u001b[38;5;241m/\u001b[39m\u001b[38;5;241m3\u001b[39m)\u001b[38;5;241m*\u001b[39m(F(t[\u001b[38;5;241m0\u001b[39m],lya[j],aj)\u001b[38;5;241m+\u001b[39m\u001b[38;5;241m2\u001b[39m\u001b[38;5;241m*\u001b[39mnp\u001b[38;5;241m.\u001b[39msum(F(t[\u001b[38;5;241m2\u001b[39m:\u001b[38;5;241m-\u001b[39m\u001b[38;5;241m2\u001b[39m:\u001b[38;5;241m2\u001b[39m],lya[j],aj))\u001b[38;5;241m+\u001b[39m\u001b[38;5;241m4\u001b[39m\u001b[38;5;241m*\u001b[39mnp\u001b[38;5;241m.\u001b[39msum(F(t[\u001b[38;5;241m1\u001b[39m:\u001b[38;5;241m-\u001b[39m\u001b[38;5;241m1\u001b[39m:\u001b[38;5;241m2\u001b[39m],lya[j],aj))\u001b[38;5;241m+\u001b[39mF(t[\u001b[38;5;241m-\u001b[39m\u001b[38;5;241m1\u001b[39m], lya[j],aj))\n\u001b[0;32m     13\u001b[0m Ib \u001b[38;5;241m=\u001b[39m (dx\u001b[38;5;241m/\u001b[39m\u001b[38;5;241m3\u001b[39m)\u001b[38;5;241m*\u001b[39m(F(t[\u001b[38;5;241m0\u001b[39m],myu,bj)\u001b[38;5;241m+\u001b[39m\u001b[38;5;241m2\u001b[39m\u001b[38;5;241m*\u001b[39mnp\u001b[38;5;241m.\u001b[39msum(F(t[\u001b[38;5;241m2\u001b[39m:\u001b[38;5;241m-\u001b[39m\u001b[38;5;241m2\u001b[39m:\u001b[38;5;241m2\u001b[39m],myu,bj))\u001b[38;5;241m+\u001b[39m\u001b[38;5;241m4\u001b[39m\u001b[38;5;241m*\u001b[39mnp\u001b[38;5;241m.\u001b[39msum(F(t[\u001b[38;5;241m1\u001b[39m:\u001b[38;5;241m-\u001b[39m\u001b[38;5;241m1\u001b[39m:\u001b[38;5;241m2\u001b[39m],myu,bj))\u001b[38;5;241m+\u001b[39mF(t[\u001b[38;5;241m-\u001b[39m\u001b[38;5;241m1\u001b[39m],myu,bj))\n\u001b[1;32m---> 14\u001b[0m W_j \u001b[38;5;241m+\u001b[39m\u001b[38;5;241m=\u001b[39m \u001b[43mq\u001b[49m\u001b[43m[\u001b[49m\u001b[43mj\u001b[49m\u001b[43m]\u001b[49m\u001b[38;5;241m*\u001b[39mIa\u001b[38;5;241m*\u001b[39mIb\n\u001b[0;32m     15\u001b[0m j \u001b[38;5;241m+\u001b[39m\u001b[38;5;241m=\u001b[39m \u001b[38;5;241m1\u001b[39m\n\u001b[0;32m     16\u001b[0m bj \u001b[38;5;241m=\u001b[39m j \u001b[38;5;241m/\u001b[39m\u001b[38;5;241m/\u001b[39m K \u001b[38;5;241m+\u001b[39m \u001b[38;5;241m1\u001b[39m\n",
      "\u001b[1;31mIndexError\u001b[0m: list index out of range"
     ]
    }
   ],
   "source": [
    "W_j = []\n",
    "for j in range(len(x)):\n",
    "    w = W_function(x[j])\n",
    "    W_j.append(w)\n",
    "W_j"
   ]
  },
  {
   "cell_type": "code",
   "execution_count": 21,
   "id": "8c7a35d7-48c6-427a-a372-f0d3a815eec6",
   "metadata": {},
   "outputs": [
    {
     "data": {
      "text/latex": [
       "$\\displaystyle 5.33895438227324$"
      ],
      "text/plain": [
       "5.33895438227324"
      ]
     },
     "execution_count": 21,
     "metadata": {},
     "output_type": "execute_result"
    }
   ],
   "source": [
    "sum(W_j)"
   ]
  },
  {
   "cell_type": "code",
   "execution_count": 23,
   "id": "444c73d1-234a-43a5-86eb-b19e501fd0d2",
   "metadata": {},
   "outputs": [
    {
     "data": {
      "text/plain": [
       "[0,\n",
       " 0,\n",
       " 0.00118548655196611,\n",
       " 0.00355255854477390,\n",
       " 0.00709733281315375,\n",
       " 0.0118159455765992,\n",
       " 0.0177512712472229,\n",
       " 0.0248526086957785,\n",
       " 0.0331161487509673,\n",
       " 0.0425380996565763,\n",
       " 0.0531146884775716,\n",
       " 0.0648881173968903,\n",
       " 0.0778085412068284,\n",
       " 0.0918722399761521,\n",
       " 0.107075510675469,\n",
       " 0.123414668551453,\n",
       " 0.140931258744709,\n",
       " 0.159576271401977,\n",
       " 0.179346073221206,\n",
       " 0.200237047305873,\n",
       " 0.222245594508251,\n",
       " 0.245412617679354,\n",
       " 0.269689922364359,\n",
       " 0.295073959365378,\n",
       " 0.321561195410090,\n",
       " 0.349148114464933,\n",
       " 0.377874991424140,\n",
       " 0.407694427866225,\n",
       " 0.438602956255382,\n",
       " 0.470597124517204,\n",
       " 0.503673497322665,\n",
       " 0.537871735535783,\n",
       " 0.573145217974709,\n",
       " 0.609490556403755,\n",
       " 0.646904377599726,\n",
       " 0.685383324607515,\n",
       " 0.724966457794472,\n",
       " 0.765607914977245,\n",
       " 0.807304384935695,\n",
       " 0.850052571028007,\n",
       " 0.893849192418704,\n",
       " 0.938732722131774,\n",
       " 0.984658039275575,\n",
       " 1.03162190743571,\n",
       " 1.07962110435616,\n",
       " 1.12865242314053,\n",
       " 1.17875376225483,\n",
       " 1.22988072490913,\n",
       " 1.28203014735716,\n",
       " 1.33519887960489,\n",
       " 1.38938378658562,\n",
       " 1.44462220463682,\n",
       " 1.50087044438003,\n",
       " 1.55812541225871,\n",
       " 1.61638402930736,\n",
       " 1.67564322983792,\n",
       " 1.73593980014421,\n",
       " 1.79723074205239,\n",
       " 1.85951303061486,\n",
       " 1.92278365506771,\n",
       " 1.98703961754704,\n",
       " 2.05231716605462,\n",
       " 2.11857397788191,\n",
       " 2.18580709475461,\n",
       " 2.25401357218793,\n",
       " 2.32319047823197,\n",
       " 2.39337353402538,\n",
       " 2.46452107703781,\n",
       " 2.53663021379552,\n",
       " 2.60969806423278,\n",
       " 2.68372176046554,\n",
       " 2.75873650788601,\n",
       " 2.83470128929237,\n",
       " 2.91161327419941,\n",
       " 2.98946964516073,\n",
       " 3.06826759656983,\n",
       " 3.14804182888694,\n",
       " 3.22875195581227,\n",
       " 3.31039520809576,\n",
       " 3.39296882916883,\n",
       " 3.47647007397214,\n",
       " 3.56093314855581,\n",
       " 3.64631828350493,\n",
       " 3.73262276910786,\n",
       " 3.81984390798860,\n",
       " 3.90797901396044,\n",
       " 3.99706180890208,\n",
       " 4.08705312666230,\n",
       " 4.17795031542596,\n",
       " 4.26975073537872,\n",
       " 4.36245175758591,\n",
       " 4.45608662971931,\n",
       " 4.55061677565343,\n",
       " 4.64603959988045,\n",
       " 4.74235251856931,\n",
       " 4.83955295846895,\n",
       " 4.93767370274326,\n",
       " 5.03667675242516,\n",
       " 5.13655956677614,\n",
       " 5.23731961642067]"
      ]
     },
     "execution_count": 23,
     "metadata": {},
     "output_type": "execute_result"
    }
   ],
   "source": [
    "W = []\n",
    "for i in range(len(x)):\n",
    "    W_i = 0\n",
    "    for k in range(i):\n",
    "        W_i += W_j[k]\n",
    "    W.append(W_i)\n",
    "W"
   ]
  },
  {
   "cell_type": "code",
   "execution_count": 40,
   "id": "942743e0-18c3-4ef0-a2e0-039b51861fd1",
   "metadata": {},
   "outputs": [
    {
     "data": {
      "text/plain": [
       "[<mpl_toolkits.mplot3d.art3d.Line3D at 0x26b24795c60>]"
      ]
     },
     "execution_count": 40,
     "metadata": {},
     "output_type": "execute_result"
    },
    {
     "data": {
      "image/png": "[encoded data removed]",
      "text/plain": [
       "<Figure size 700x400 with 1 Axes>"
      ]
     },
     "metadata": {},
     "output_type": "display_data"
    }
   ],
   "source": [
    "#fig = plt.figure()\n",
    "#ax = plt.axes(projection = \"3d\")\n",
    "#ax.set_xlabel('x')\n",
    "#ax.set_ylabel('ro')\n",
    "#ax.set_zlabel('W(x)')\n",
    "\n",
    "#X, Y = np.meshgrid(x, ro)\n",
    "#ax.plot_wireframe(X, Y, W)\n",
    "#plt.show()\n",
    "\n",
    "fig = plt.figure(figsize=(7, 4))\n",
    "ax_3d = fig.add_subplot(projection='3d')\n",
    "\n",
    "ax_3d.plot(x, ro, W)"
   ]
  },
  {
   "cell_type": "code",
   "execution_count": 69,
   "id": "0b873a5e-4400-40ed-b278-93f73e69c1a2",
   "metadata": {},
   "outputs": [],
   "source": [
    "def case_1(x):  # Функция для 1 случая в W(x)\n",
    "    W_j = 0\n",
    "    t = np.append(np.arange(0,x,dx),2)\n",
    "    for j in range(len(q)):\n",
    "        bj = j // K\n",
    "        aj = K * (bj + 1) - j - 1\n",
    "        Ia = (dx/3)*(F(t[0],lya[0],aj)+2*np.sum(F(t[2:-2:2],lya[2:-2:2],aj))+4*np.sum(F(t[1:-1:2],lya[1:-1:2],aj))+F(t[-1], lya[-1],aj))\n",
    "        Ib = (dx/3)*(F(t[0],myu,bj)+2*np.sum(F(t[2:-2:2],myu,bj))+4*np.sum(F(t[1:-1:2],myu,bj))+F(t[-1],myu,bj))\n",
    "        W_j += q[j]*Ia*Ib\n",
    "    return W_j"
   ]
  },
  {
   "cell_type": "code",
   "execution_count": 70,
   "id": "31327634-6a64-43ca-9c74-978b4e4d335a",
   "metadata": {},
   "outputs": [],
   "source": [
    "def case_2(x):  # Функция для 2 случая в W(x)\n",
    "    W_j = 0\n",
    "    t = np.append(np.arange(0,x,dx),2)\n",
    "    for j in range(len(q)):\n",
    "        bj = j // K\n",
    "        Ib = (dx/3)*(F(t[0],myu,bj)+2*np.sum(F(t[2:-2:2],myu,bj))+4*np.sum(F(t[1:-1:2],myu,bj))+F(t[-1],myu,bj))\n",
    "        W_j += q[j]*Ib\n",
    "    return W_j"
   ]
  },
  {
   "cell_type": "code",
   "execution_count": 77,
   "id": "d1fab7b2-a496-4402-af96-1159497e4c4e",
   "metadata": {},
   "outputs": [],
   "source": [
    "def case_3(x):  # Функция для 3 случая в W(x)\n",
    "    W_j = 0\n",
    "    t = np.linspace(0, x, len(lya))\n",
    "    for j in range(len(q)):\n",
    "        bj = j // K\n",
    "        aj = K * (bj + 1) - j - 1\n",
    "        Ia = (dx/3)*(F(t[0],lya[0],aj)+2*np.sum(F(t[2:-2:2],lya[2:-2:2],aj))+4*np.sum(F(t[1:-1:2],lya[1:-1:2],aj))+F(t[-1], lya[-1],aj))\n",
    "        W_j += q[j]*Ia\n",
    "    return W_j"
   ]
  },
  {
   "cell_type": "code",
   "execution_count": null,
   "id": "2df5efae-21ad-4250-9be0-c0c8a7336b1f",
   "metadata": {},
   "outputs": [],
   "source": []
  }
 ],
 "metadata": {
  "kernelspec": {
   "display_name": "Python 3 (ipykernel)",
   "language": "python",
   "name": "python3"
  },
  "language_info": {
   "codemirror_mode": {
    "name": "ipython",
    "version": 3
   },
   "file_extension": ".py",
   "mimetype": "text/x-python",
   "name": "python",
   "nbconvert_exporter": "python",
   "pygments_lexer": "ipython3",
   "version": "3.10.7"
  }
 },
 "nbformat": 4,
 "nbformat_minor": 5
}
