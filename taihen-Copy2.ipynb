{
 "cells": [
  {
   "cell_type": "code",
   "execution_count": 17,
   "id": "4194b9d5-a73b-4f04-b198-8f8abff113a7",
   "metadata": {},
   "outputs": [],
   "source": [
    "import numpy as np\n",
    "import cmath\n",
    "from mpmath import nsum, exp, inf\n",
    "import math \n",
    "from scipy.integrate import quad\n",
    "import sympy as sym\n",
    "\n",
    "\n",
    "K = 5\n",
    "myu = 1.25\n",
    "ro = 1\n",
    "RO = 4"
   ]
  },
  {
   "cell_type": "code",
   "execution_count": 2,
   "id": "4672eb6e-2304-489f-847d-b1114272944c",
   "metadata": {},
   "outputs": [],
   "source": [
    "def eq_R(p):    # Функция для нахождения корней комплексного уравнения\n",
    "    x = sym.Symbol('x', real = True)\n",
    "    sol = sym.solve(x**(K+1) - (p+1) * x + p, x)\n",
    "    return sol"
   ]
  },
  {
   "cell_type": "code",
   "execution_count": 8,
   "id": "cbbd6fe0-fdd8-4bf6-980b-103ffa78e82e",
   "metadata": {},
   "outputs": [],
   "source": [
    "# Для RO = 1\n",
    "\n",
    "sol1 = []\n",
    "R1 = []\n",
    "\n",
    "# Берем только те корни, которые по модулю меньше 1\n",
    "sol1 = eq_R(ro)\n",
    "for k in range(len(sol)):\n",
    "    if abs(sol1[k]) < 1:\n",
    "        R1.append(sol1[k])\n",
    "R1 = [sym.N(solution) for solution in R1]\n"
   ]
  },
  {
   "cell_type": "code",
   "execution_count": 9,
   "id": "ee5e38c1-37d4-477f-a97c-81c41482046e",
   "metadata": {},
   "outputs": [
    {
     "data": {
      "text/plain": [
       "[0.508660391642004]"
      ]
     },
     "execution_count": 9,
     "metadata": {},
     "output_type": "execute_result"
    }
   ],
   "source": [
    "R1"
   ]
  },
  {
   "cell_type": "code",
   "execution_count": 6,
   "id": "98378128-2c5e-4b75-a0a8-63fde2a0bd62",
   "metadata": {},
   "outputs": [
    {
     "name": "stdout",
     "output_type": "stream",
     "text": [
      "0.996535843343198\n"
     ]
    },
    {
     "data": {
      "text/plain": [
       "[0.0982679216715992,\n",
       " 0.148252921194921,\n",
       " 0.173678310628679,\n",
       " 0.186611199175705,\n",
       " 0.193189647329097,\n",
       " 0.0982679216715992,\n",
       " 0.0499849995233214,\n",
       " 0.0254253894337581,\n",
       " 0.0129328885470259,\n",
       " 0.00657844815339256,\n",
       " 0.00334619601410128]"
      ]
     },
     "execution_count": 6,
     "metadata": {},
     "output_type": "execute_result"
    }
   ],
   "source": [
    "q = []\n",
    "q_K1 = ((ro/(1-R1[0]) + nsum(lambda i: nsum(lambda k: R1[0]**k, [0,i]), [0,K-2]))/(ro + 1 - R1[0]**K) + 1)**(-1)\n",
    "Q_sum = 0\n",
    "\n",
    "for j in range(11):\n",
    "    if Q_sum >= 0.999:\n",
    "        break\n",
    "    if 0 <= j <= K-2:\n",
    "        q_j = q_K1 * nsum(lambda i: R1[0]**i, [0,j]) / (ro + 1 - R1[0]**K)\n",
    "        q.insert(j, q_j)\n",
    "    elif j == K-1:\n",
    "        q_j = q_K1\n",
    "        q.insert(j, q_j)\n",
    "    elif j == K:\n",
    "        q_j = q_K1 / (ro + 1 - R1[0]**K)\n",
    "        q.insert(j, q_j)\n",
    "    elif j > K:\n",
    "        q_j = q[K] * R1[0]**(j - K)\n",
    "        q.insert(j, q_j)\n",
    "    Q_sum += q_j\n",
    "print(Q_sum)\n",
    "q"
   ]
  },
  {
   "cell_type": "code",
   "execution_count": 18,
   "id": "0aecf8bb-bb12-4ab1-8760-fbd20795d0b0",
   "metadata": {},
   "outputs": [],
   "source": [
    "# Для RO = 5\n",
    "\n",
    "sol2 = []\n",
    "R2 = []\n",
    "\n",
    "# Берем только те корни, которые по модулю меньше 1\n",
    "sol2 = eq_R(RO)\n",
    "for k in range(len(sol)):\n",
    "    if abs(sol2[k]) < 1:\n",
    "        R2.append(sol2[k])\n",
    "R2 = [sym.N(solution) for solution in R2]\n"
   ]
  },
  {
   "cell_type": "code",
   "execution_count": 19,
   "id": "4c70c09d-e88d-4bad-beaa-8caed1fe76fe",
   "metadata": {},
   "outputs": [
    {
     "data": {
      "text/plain": [
       "[1, CRootOf(x**5 + x**4 + x**3 + x**2 + x - 4, 0)]"
      ]
     },
     "execution_count": 19,
     "metadata": {},
     "output_type": "execute_result"
    }
   ],
   "source": [
    "sol2"
   ]
  },
  {
   "cell_type": "code",
   "execution_count": 20,
   "id": "c8e75a75-1e59-415a-8bf2-2a45de253a73",
   "metadata": {},
   "outputs": [
    {
     "data": {
      "text/plain": [
       "[0.926519360580774]"
      ]
     },
     "execution_count": 20,
     "metadata": {},
     "output_type": "execute_result"
    }
   ],
   "source": [
    "R2"
   ]
  },
  {
   "cell_type": "code",
   "execution_count": null,
   "id": "2fba4aed-4d36-4450-a9b1-c6a605beec9e",
   "metadata": {},
   "outputs": [],
   "source": [
    "q = []\n",
    "q_K1 = ((RO/(1-R2[0]) + nsum(lambda i: nsum(lambda k: R2[0]**k, [0,i]), [0,K-2]))/(RO + 1 - R2[0]**K) + 1)**(-1)\n",
    "Q_sum = 0\n",
    "j = 0\n",
    "while True:\n",
    "    if Q_sum >= 0.999:\n",
    "        break\n",
    "    if 0 <= j <= K-2:\n",
    "        q_j = q_K1 * nsum(lambda i: R2[0]**i, [0,j]) / (RO + 1 - R2[0]**K)\n",
    "        q.insert(j, q_j)\n",
    "    elif j == K-1:\n",
    "        q_j = q_K1\n",
    "        q.insert(j, q_j)\n",
    "    elif j == K:\n",
    "        q_j = q_K1 / (RO + 1 - R2[0]**K)\n",
    "        q.insert(j, q_j)\n",
    "    elif j > K:\n",
    "        q_j = q[K] * R2[0]**(j - K)\n",
    "        q.insert(j, q_j)\n",
    "    Q_sum += q_j\n",
    "    j += 1\n",
    "print(Q_sum)\n",
    "q"
   ]
  },
  {
   "cell_type": "code",
   "execution_count": null,
   "id": "42a724c7-fa8a-411d-81de-6895fc026516",
   "metadata": {},
   "outputs": [],
   "source": []
  }
 ],
 "metadata": {
  "kernelspec": {
   "display_name": "Python 3 (ipykernel)",
   "language": "python",
   "name": "python3"
  },
  "language_info": {
   "codemirror_mode": {
    "name": "ipython",
    "version": 3
   },
   "file_extension": ".py",
   "mimetype": "text/x-python",
   "name": "python",
   "nbconvert_exporter": "python",
   "pygments_lexer": "ipython3",
   "version": "3.10.7"
  }
 },
 "nbformat": 4,
 "nbformat_minor": 5
}
