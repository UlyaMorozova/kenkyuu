{
 "cells": [
  {
   "cell_type": "code",
   "execution_count": 41,
   "id": "4194b9d5-a73b-4f04-b198-8f8abff113a7",
   "metadata": {},
   "outputs": [],
   "source": [
    "import numpy as np\n",
    "import cmath\n",
    "from mpmath import nsum, exp, inf\n",
    "import math \n",
    "from scipy.integrate import quad\n",
    "import sympy as sym\n",
    "\n",
    "\n",
    "K = 5\n",
    "myu = 1.25\n",
    "ro = 1\n",
    "RO = 4"
   ]
  },
  {
   "cell_type": "code",
   "execution_count": 2,
   "id": "4672eb6e-2304-489f-847d-b1114272944c",
   "metadata": {},
   "outputs": [],
   "source": [
    "def eq_R(p):    # Функция для нахождения корней комплексного уравнения\n",
    "    x = sym.Symbol('x', real = True)\n",
    "    sol = sym.solve(x**(K+1) - (p+1) * x + p, x)\n",
    "    return sol"
   ]
  },
  {
   "cell_type": "code",
   "execution_count": 42,
   "id": "cbbd6fe0-fdd8-4bf6-980b-103ffa78e82e",
   "metadata": {},
   "outputs": [],
   "source": [
    "# Для RO = 1\n",
    "\n",
    "sol1 = []\n",
    "R1 = []\n",
    "\n",
    "# Берем только те корни, которые по модулю меньше 1\n",
    "sol1 = eq_R(ro)\n",
    "for k in range(len(sol1)):\n",
    "    if abs(sol1[k]) < 1:\n",
    "        R1.append(sol1[k])\n",
    "R1 = [sym.N(solution) for solution in R1]\n"
   ]
  },
  {
   "cell_type": "code",
   "execution_count": 43,
   "id": "ee5e38c1-37d4-477f-a97c-81c41482046e",
   "metadata": {},
   "outputs": [
    {
     "data": {
      "text/plain": [
       "[0.508660391642004]"
      ]
     },
     "execution_count": 43,
     "metadata": {},
     "output_type": "execute_result"
    }
   ],
   "source": [
    "R1"
   ]
  },
  {
   "cell_type": "code",
   "execution_count": 55,
   "id": "98378128-2c5e-4b75-a0a8-63fde2a0bd62",
   "metadata": {},
   "outputs": [
    {
     "name": "stdout",
     "output_type": "stream",
     "text": [
      "1.00000000000000      56\n"
     ]
    }
   ],
   "source": [
    "q = []\n",
    "q_K1 = ((ro/(1-R1[0]) + nsum(lambda i: nsum(lambda k: R1[0]**k, [0,i]), [0,K-2]))/(ro + 1 - R1[0]**K) + 1)**(-1)\n",
    "q_K = q_K1 / (ro + 1 - R1[0]**K)\n",
    "Q_sum = 0\n",
    "j = 0\n",
    "while Q_sum < 1:\n",
    "    if 0 <= j <= K-2:\n",
    "        q_j = q_K1 * nsum(lambda i: R1[0]**i, [0,j]) / (ro + 1 - R1[0]**K)\n",
    "        q.insert(j, q_j)\n",
    "    elif j == K-1:\n",
    "        q_j = q_K1\n",
    "        q.insert(j, q_j)\n",
    "    elif j == K:\n",
    "        q_j = q_K\n",
    "        q.insert(j, q_j)\n",
    "    elif j > K:\n",
    "        q_j = q[K] * R1[0]**(j - K)\n",
    "        q.insert(j, q_j)\n",
    "    if q_j < 0.00000000000000001:\n",
    "        break\n",
    "    Q_sum += q_j\n",
    "    j += 1\n",
    "print(Q_sum, '    ', j)"
   ]
  },
  {
   "cell_type": "code",
   "execution_count": 56,
   "id": "f61214ab-256b-4be5-9326-40ec9803a5f6",
   "metadata": {},
   "outputs": [
    {
     "data": {
      "text/plain": [
       "[0.0982679216715992,\n",
       " 0.148252921194921,\n",
       " 0.173678310628679,\n",
       " 0.186611199175705,\n",
       " 0.193189647329097,\n",
       " 0.0982679216715992,\n",
       " 0.0499849995233214,\n",
       " 0.0254253894337581,\n",
       " 0.0129328885470259,\n",
       " 0.00657844815339256,\n",
       " 0.00334619601410128,\n",
       " 0.00170207737504367,\n",
       " 0.000865779344194708,\n",
       " 0.000440387660293637,\n",
       " 0.000224007759759268,\n",
       " 0.000113943874809997,\n",
       " 5.79587359860606e-5,\n",
       " 2.94813133457451e-5,\n",
       " 1.49959763925673e-5,\n",
       " 7.62785922489755e-6,\n",
       " 3.87998986072646e-6,\n",
       " 1.97359716212413e-6,\n",
       " 1.00389070542961e-6,\n",
       " 5.10639439389592e-7,\n",
       " 2.59742057227763e-7,\n",
       " 1.32120496555374e-7,\n",
       " 6.72044635217925e-8,\n",
       " 3.41842487350858e-8,\n",
       " 1.73881733495764e-8,\n",
       " 8.84467506593460e-9,\n",
       " 4.49893588298456e-9,\n",
       " 2.28843048821119e-9,\n",
       " 1.16403394837901e-9,\n",
       " 5.92097964067055e-10,\n",
       " 3.01176782292781e-10,\n",
       " 1.53196700034525e-10,\n",
       " 7.79250934378240e-11,\n",
       " 3.96374085468233e-11,\n",
       " 2.01619797551013e-11,\n",
       " 1.02556005185080e-11,\n",
       " 5.21661777626821e-12,\n",
       " 2.65348684112323e-12,\n",
       " 1.34972365582265e-12,\n",
       " 6.86550963379224e-13,\n",
       " 3.49221281914672e-13,\n",
       " 1.77635034028440e-13,\n",
       " 9.03559059782468e-14,\n",
       " 4.59604705220631e-14,\n",
       " 2.33782709358034e-14,\n",
       " 1.18916004501186e-14,\n",
       " 6.04878614220759e-15,\n",
       " 3.07677792805404e-15,\n",
       " 1.56503506587944e-15,\n",
       " 7.96071349543706e-16,\n",
       " 4.04929964433880e-16,\n",
       " 2.05971834296520e-16]"
      ]
     },
     "execution_count": 56,
     "metadata": {},
     "output_type": "execute_result"
    }
   ],
   "source": [
    "q"
   ]
  },
  {
   "cell_type": "code",
   "execution_count": 58,
   "id": "f789ed15-7af9-419c-b33f-4830b281db46",
   "metadata": {},
   "outputs": [],
   "source": [
    "import matplotlib.pyplot as plt"
   ]
  },
  {
   "cell_type": "code",
   "execution_count": 62,
   "id": "3a179cda-8aee-403c-a45d-c0d33b89d8ed",
   "metadata": {},
   "outputs": [
    {
     "data": {
      "text/plain": [
       "array([ 0,  1,  2,  3,  4,  5,  6,  7,  8,  9, 10, 11, 12, 13, 14, 15, 16,\n",
       "       17, 18, 19, 20, 21, 22, 23, 24, 25, 26, 27, 28, 29, 30, 31, 32, 33,\n",
       "       34, 35, 36, 37, 38, 39, 40, 41, 42, 43, 44, 45, 46, 47, 48, 49, 50,\n",
       "       51, 52, 53, 54, 55])"
      ]
     },
     "execution_count": 62,
     "metadata": {},
     "output_type": "execute_result"
    }
   ],
   "source": [
    "x = np.arange(0,len(q),1)\n",
    "x"
   ]
  },
  {
   "cell_type": "code",
   "execution_count": 68,
   "id": "c4ef5710-780e-47de-b9fa-cba20827367e",
   "metadata": {},
   "outputs": [
    {
     "data": {
      "image/png": "[encoded data removed]",
      "text/plain": [
       "<Figure size 800x600 with 1 Axes>"
      ]
     },
     "metadata": {},
     "output_type": "display_data"
    }
   ],
   "source": [
    "plt.figure(figsize=(8,6))\n",
    "plt.scatter(x, q, s=10, label='RO = 1')\n",
    "plt.locator_params(axis='x', nbins=20)\n",
    "plt.locator_params(axis='y', nbins=40 )\n",
    "plt.xlabel('j')\n",
    "plt.ylabel('q')\n",
    "plt.legend()\n",
    "plt.show()"
   ]
  },
  {
   "cell_type": "code",
   "execution_count": 46,
   "id": "0aecf8bb-bb12-4ab1-8760-fbd20795d0b0",
   "metadata": {},
   "outputs": [],
   "source": [
    "# Для RO = 4\n",
    "\n",
    "sol2 = []\n",
    "R2 = []\n",
    "\n",
    "# Берем только те корни, которые по модулю меньше 1\n",
    "sol2 = eq_R(RO)\n",
    "for k in range(len(sol2)):\n",
    "    if abs(sol2[k]) < 1:\n",
    "        R2.append(sol2[k])\n",
    "R2 = [sym.N(solution) for solution in R2]\n"
   ]
  },
  {
   "cell_type": "code",
   "execution_count": 47,
   "id": "4c70c09d-e88d-4bad-beaa-8caed1fe76fe",
   "metadata": {},
   "outputs": [
    {
     "data": {
      "text/plain": [
       "[1, CRootOf(x**5 + x**4 + x**3 + x**2 + x - 4, 0)]"
      ]
     },
     "execution_count": 47,
     "metadata": {},
     "output_type": "execute_result"
    }
   ],
   "source": [
    "sol2"
   ]
  },
  {
   "cell_type": "code",
   "execution_count": 48,
   "id": "c8e75a75-1e59-415a-8bf2-2a45de253a73",
   "metadata": {},
   "outputs": [
    {
     "data": {
      "text/plain": [
       "[0.926519360580774]"
      ]
     },
     "execution_count": 48,
     "metadata": {},
     "output_type": "execute_result"
    }
   ],
   "source": [
    "R2"
   ]
  },
  {
   "cell_type": "code",
   "execution_count": null,
   "id": "2fba4aed-4d36-4450-a9b1-c6a605beec9e",
   "metadata": {},
   "outputs": [],
   "source": [
    "q = []\n",
    "q_K1 = ((RO/(1-R2[0]) + nsum(lambda i: nsum(lambda k: R2[0]**k, [0,i]), [0,K-2]))/(RO + 1 - R2[0]**K) + 1)**(-1)\n",
    "Q_sum = 0\n",
    "j = 0\n",
    "while True:\n",
    "    if Q_sum >= 0.999:\n",
    "        break\n",
    "    if 0 <= j <= K-2:\n",
    "        q_j = q_K1 * nsum(lambda i: R2[0]**i, [0,j]) / (RO + 1 - R2[0]**K)\n",
    "        q.insert(j, q_j)\n",
    "    elif j == K-1:\n",
    "        q_j = q_K1\n",
    "        q.insert(j, q_j)\n",
    "    elif j == K:\n",
    "        q_j = q_K1 / (RO + 1 - R2[0]**K)\n",
    "        q.insert(j, q_j)\n",
    "    elif j > K:\n",
    "        q_j = q[K] * R2[0]**(j - K)\n",
    "        q.insert(j, q_j)\n",
    "    Q_sum += q_j\n",
    "    j += 1\n",
    "print(Q_sum)\n",
    "q"
   ]
  },
  {
   "cell_type": "code",
   "execution_count": null,
   "id": "42a724c7-fa8a-411d-81de-6895fc026516",
   "metadata": {},
   "outputs": [],
   "source": []
  }
 ],
 "metadata": {
  "kernelspec": {
   "display_name": "Python 3 (ipykernel)",
   "language": "python",
   "name": "python3"
  },
  "language_info": {
   "codemirror_mode": {
    "name": "ipython",
    "version": 3
   },
   "file_extension": ".py",
   "mimetype": "text/x-python",
   "name": "python",
   "nbconvert_exporter": "python",
   "pygments_lexer": "ipython3",
   "version": "3.10.7"
  }
 },
 "nbformat": 4,
 "nbformat_minor": 5
}
