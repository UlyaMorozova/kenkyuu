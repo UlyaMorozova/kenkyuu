{
 "cells": [
  {
   "cell_type": "code",
   "execution_count": 90,
   "id": "4194b9d5-a73b-4f04-b198-8f8abff113a7",
   "metadata": {},
   "outputs": [],
   "source": [
    "import matplotlib.pyplot as plt\n",
    "from mpl_toolkits.mplot3d import Axes3D\n",
    "import numpy as np\n",
    "import cmath\n",
    "from mpmath import nsum, exp, inf\n",
    "import math \n",
    "from scipy.integrate import quad\n",
    "\n",
    "K = 5\n",
    "myu = 1.25"
   ]
  },
  {
   "cell_type": "code",
   "execution_count": 77,
   "id": "4672eb6e-2304-489f-847d-b1114272944c",
   "metadata": {},
   "outputs": [],
   "source": [
    "import sympy as sym\n",
    "\n",
    "def eq_R(p):\n",
    "    x = sym.Symbol('x', real = True)\n",
    "    sol = sym.solve(x**6 - (p+1) * x + p, x)\n",
    "    return sol\n",
    "sol = []\n",
    "R = []\n",
    "ro = np.arange(0.01, 4.99, 0.01)\n",
    "for i in range(len(ro)):\n",
    "    sol = eq_R(ro[i])\n",
    "    for k in range(len(sol)):\n",
    "        if abs(sol[k]) < 1:\n",
    "            R.append(sol[k])\n",
    "R = [N(solution) for solution in R]"
   ]
  },
  {
   "cell_type": "code",
   "execution_count": 112,
   "id": "eb9b1b8b-d8c0-4921-9230-9650f17e3397",
   "metadata": {},
   "outputs": [],
   "source": [
    "def F(t, lm, a):\n",
    "    return lm * t**(a-1)/(math.factorial(a-1))*np.exp(-lm*t)\n",
    "\n"
   ]
  },
  {
   "cell_type": "code",
   "execution_count": 106,
   "id": "5fbe685d-900a-4689-b51f-abd70e9439a4",
   "metadata": {},
   "outputs": [],
   "source": [
    "def W_function(a, b, x, lya):\n",
    "    if a > 0 and b > 0 and x > 0:\n",
    "        Ia = quad(integral, 0, x, args=(lya,a))\n",
    "        Ib = quad(integral, 0, x, args=(myu,b))\n",
    "        # w = nsum(lambda j: q[j]*Ia*Ib, [0, len(ro)])\n",
    "        w = np.sum(q[0:len(ro):1]*Ib*Ia)\n",
    "    elif a == 0 and b > 0 and x > 0:\n",
    "        Ib = quad(integral, 0, x, args=(myu,b))\n",
    "        w = np.sum(q[0:len(ro):1]*Ib)\n",
    "    elif a > 0 and b == 0 and x > 0:\n",
    "        Ia = quad(integral, 0, x, args=(lya,a))\n",
    "        # w = nsum(lambda j: q[j]*Ia, [0, len(ro)])\n",
    "        w = np.sum(q[0:len(ro):1]*Ia)\n",
    "    elif a == 0 and b == 0 and x > 0:\n",
    "        w = 1\n",
    "    elif x <= 0:\n",
    "        w = 0\n",
    "    return w"
   ]
  },
  {
   "cell_type": "code",
   "execution_count": 139,
   "id": "d9da21d8-0dc0-477c-95c0-66c694dddd35",
   "metadata": {},
   "outputs": [
    {
     "ename": "TypeError",
     "evalue": "can't multiply sequence by non-int of type 'numpy.float64'",
     "output_type": "error",
     "traceback": [
      "\u001b[1;31m---------------------------------------------------------------------------\u001b[0m",
      "\u001b[1;31mTypeError\u001b[0m                                 Traceback (most recent call last)",
      "Cell \u001b[1;32mIn[139], line 54\u001b[0m\n\u001b[0;32m     47\u001b[0m     \u001b[38;5;28;01mreturn\u001b[39;00m W\n\u001b[0;32m     49\u001b[0m \u001b[38;5;66;03m#fig = plt.figure()\u001b[39;00m\n\u001b[0;32m     50\u001b[0m \u001b[38;5;66;03m#ax = fig.add_subplot(111, projection='3d')\u001b[39;00m\n\u001b[0;32m     51\u001b[0m \n\u001b[0;32m     52\u001b[0m \u001b[38;5;66;03m#ax.plot(x, ro, W_fun(x, ro))\u001b[39;00m\n\u001b[0;32m     53\u001b[0m \u001b[38;5;66;03m#plt.show()\u001b[39;00m\n\u001b[1;32m---> 54\u001b[0m \u001b[43mW_fun\u001b[49m\u001b[43m(\u001b[49m\u001b[43mx\u001b[49m\u001b[43m,\u001b[49m\u001b[43m \u001b[49m\u001b[43mro\u001b[49m\u001b[43m)\u001b[49m\n",
      "Cell \u001b[1;32mIn[139], line 40\u001b[0m, in \u001b[0;36mW_fun\u001b[1;34m(x, ro)\u001b[0m\n\u001b[0;32m     38\u001b[0m     Ia \u001b[38;5;241m=\u001b[39m (dx\u001b[38;5;241m/\u001b[39m\u001b[38;5;241m3\u001b[39m)\u001b[38;5;241m*\u001b[39m(F(x[\u001b[38;5;241m0\u001b[39m],lya[\u001b[38;5;241m0\u001b[39m],aj)\u001b[38;5;241m+\u001b[39m\u001b[38;5;241m2\u001b[39m\u001b[38;5;241m*\u001b[39mnp\u001b[38;5;241m.\u001b[39msum(F(x[\u001b[38;5;241m2\u001b[39m:\u001b[38;5;241m-\u001b[39m\u001b[38;5;241m2\u001b[39m:\u001b[38;5;241m2\u001b[39m],lya[\u001b[38;5;241m2\u001b[39m:\u001b[38;5;241m-\u001b[39m\u001b[38;5;241m2\u001b[39m:\u001b[38;5;241m2\u001b[39m],aj))\u001b[38;5;241m+\u001b[39m\u001b[38;5;241m4\u001b[39m\u001b[38;5;241m*\u001b[39mnp\u001b[38;5;241m.\u001b[39msum(F(x[\u001b[38;5;241m1\u001b[39m:\u001b[38;5;241m-\u001b[39m\u001b[38;5;241m1\u001b[39m:\u001b[38;5;241m2\u001b[39m],lya[\u001b[38;5;241m1\u001b[39m:\u001b[38;5;241m-\u001b[39m\u001b[38;5;241m1\u001b[39m:\u001b[38;5;241m2\u001b[39m],aj))\u001b[38;5;241m+\u001b[39mF(x[\u001b[38;5;241m-\u001b[39m\u001b[38;5;241m1\u001b[39m], lya[\u001b[38;5;241m-\u001b[39m\u001b[38;5;241m1\u001b[39m],aj))\n\u001b[0;32m     39\u001b[0m     \u001b[38;5;66;03m#w = nsum(lambda k: q[k]*Ia, [0, len(ro)])\u001b[39;00m\n\u001b[1;32m---> 40\u001b[0m     w \u001b[38;5;241m=\u001b[39m np\u001b[38;5;241m.\u001b[39msum(\u001b[43mq\u001b[49m\u001b[38;5;241;43m*\u001b[39;49m\u001b[43mIa\u001b[49m)\n\u001b[0;32m     41\u001b[0m     \u001b[38;5;66;03m#w += q[j]*Ia\u001b[39;00m\n\u001b[0;32m     42\u001b[0m \u001b[38;5;28;01melif\u001b[39;00m aj \u001b[38;5;241m==\u001b[39m \u001b[38;5;241m0\u001b[39m \u001b[38;5;129;01mand\u001b[39;00m bj \u001b[38;5;241m==\u001b[39m \u001b[38;5;241m0\u001b[39m \u001b[38;5;129;01mand\u001b[39;00m x[j] \u001b[38;5;241m>\u001b[39m \u001b[38;5;241m0\u001b[39m:\n",
      "\u001b[1;31mTypeError\u001b[0m: can't multiply sequence by non-int of type 'numpy.float64'"
     ]
    }
   ],
   "source": [
    "q = []\n",
    "q_K1 = ((ro[K-1]/(1-R[K-1]) + nsum(lambda i: nsum(lambda k: R[K-1]**k, [0,i]), [0,K-2]))/(ro[K-1] + 1 - R[K-1]**K) + 1)**(-1)\n",
    "x = np.linspace(0, 5, len(ro))\n",
    "lya = (myu**(-1))*ro\n",
    "dx = 0.001\n",
    "\n",
    "for j in range(len(ro)):\n",
    "    if 0 <= j <= K-2:\n",
    "        q_j = q_K1 * nsum(lambda i: R[j]**i, [0,j]) / (ro[j] + 1 - R[j]**K)\n",
    "        q.insert(j, q_j)\n",
    "    elif j == K-1:\n",
    "        q.insert(j, q_K1)\n",
    "    elif j == K:\n",
    "        q_j = q_K1 / (ro[j] + 1 - R[j]**K)\n",
    "        q.insert(j, q_j)\n",
    "    else:\n",
    "        q_j = q[K] * R[j]**(j - K)\n",
    "        q.insert(j, q_j)\n",
    "        \n",
    "def W_fun(x, ro):\n",
    "    W = []\n",
    "    for j in range(len(ro)):\n",
    "        bj = j // K\n",
    "        aj = K * (bj + 1) - j - 1\n",
    "        if aj > 0 and bj > 0 and x[j] > 0:\n",
    "            Ia = (dx/3)*(F(x[0],lya[0],aj)+2*np.sum(F(x[2:-2:2],lya[2:-2:2],aj))+4*np.sum(F(x[1:-1:2],lya[1:-1:2],aj))+F(x[-1], lya[-1],aj))　\n",
    "            ## Правило Симпсона\n",
    "            Ib = (dx/3)*(F(x[0],myu,bj)+2*np.sum(F(x[2:-2:2],myu,bj))+4*np.sum(F(x[1:-1:2],myu,bj))+F(x[-1],myu,bj))\n",
    "            #Ib = quad(integral, 0, x[j], args=(myu,bj))\n",
    "            #w = nsum(lambda k: q[k]*Ia*Ib, [0, len(ro)])\n",
    "            w = np.sum(q*Ib*Ia)\n",
    "            #w += q[j]*Ia*Ib\n",
    "        elif aj == 0 and bj > 0 and x[j] > 0:\n",
    "            Ib = (dx/3)*(F(x[0],myu,bj)+2*np.sum(F(x[2:-2:2],myu,bj))+4*np.sum(F(x[1:-1:2],myu,bj))+F(x[-1],myu,bj))\n",
    "            w = np.sum(q*Ib)\n",
    "            #w += q[j]*Ib\n",
    "            #w = nsum(lambda k: q[k]*Ib, [0, len(ro)])\n",
    "        elif aj > 0 and bj == 0 and x[j] > 0:\n",
    "            Ia = (dx/3)*(F(x[0],lya[0],aj)+2*np.sum(F(x[2:-2:2],lya[2:-2:2],aj))+4*np.sum(F(x[1:-1:2],lya[1:-1:2],aj))+F(x[-1], lya[-1],aj))\n",
    "            #w = nsum(lambda k: q[k]*Ia, [0, len(ro)])\n",
    "            w = np.sum(q*Ia)\n",
    "            #w += q[j]*Ia\n",
    "        elif aj == 0 and bj == 0 and x[j] > 0:\n",
    "            w = 1\n",
    "        elif x[j] <= 0:\n",
    "            w = 0\n",
    "        W.append(w)\n",
    "    return W\n",
    "\n",
    "#fig = plt.figure()\n",
    "#ax = fig.add_subplot(111, projection='3d')\n",
    "\n",
    "#ax.plot(x, ro, W_fun(x, ro))\n",
    "#plt.show()\n",
    "W_fun(x, ro)"
   ]
  },
  {
   "cell_type": "code",
   "execution_count": null,
   "id": "101a6f2d-5321-428a-a9f2-527d0d70ab96",
   "metadata": {},
   "outputs": [],
   "source": []
  }
 ],
 "metadata": {
  "kernelspec": {
   "display_name": "Python 3 (ipykernel)",
   "language": "python",
   "name": "python3"
  },
  "language_info": {
   "codemirror_mode": {
    "name": "ipython",
    "version": 3
   },
   "file_extension": ".py",
   "mimetype": "text/x-python",
   "name": "python",
   "nbconvert_exporter": "python",
   "pygments_lexer": "ipython3",
   "version": "3.10.7"
  }
 },
 "nbformat": 4,
 "nbformat_minor": 5
}
