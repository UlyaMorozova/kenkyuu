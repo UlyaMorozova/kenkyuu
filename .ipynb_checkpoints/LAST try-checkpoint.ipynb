{
 "cells": [
  {
   "cell_type": "code",
   "execution_count": 1,
   "id": "48ecb741-b692-4ecc-9a32-15e7800d59e1",
   "metadata": {},
   "outputs": [],
   "source": [
    "import numpy as np\n",
    "import cmath\n",
    "from mpmath import nsum, exp, inf\n",
    "import math \n",
    "from scipy.integrate import quad\n",
    "import sympy as sym\n",
    "import matplotlib.pyplot as plt\n",
    "from mpl_toolkits.mplot3d import Axes3D"
   ]
  },
  {
   "cell_type": "code",
   "execution_count": 2,
   "id": "af319822-a7e0-49c7-902c-c18201a4159e",
   "metadata": {},
   "outputs": [],
   "source": [
    "K = 5\n",
    "myu = 1.25"
   ]
  },
  {
   "cell_type": "code",
   "execution_count": 3,
   "id": "9efaed93-8370-44d6-b899-15b946fc3086",
   "metadata": {},
   "outputs": [],
   "source": [
    "def eq_R(p):    # Функция для нахождения корней комплексного уравнения\n",
    "    x = sym.Symbol('x', real = True)\n",
    "    sol = sym.solve(x**(K+1) - (p+1) * x + p, x)\n",
    "    return sol"
   ]
  },
  {
   "cell_type": "code",
   "execution_count": 16,
   "id": "62cd4688-3958-4274-8720-b2bceb61bd62",
   "metadata": {},
   "outputs": [],
   "source": [
    "def root(ro):\n",
    "    sol = []\n",
    "    R = []\n",
    "    sol = eq_R(ro)\n",
    "    for k in range(len(sol)):\n",
    "        if abs(sol[k]) < 1:\n",
    "            R.append(sol[k])\n",
    "    R = [sym.N(solution) for solution in R]\n",
    "    return R[0]"
   ]
  },
  {
   "cell_type": "code",
   "execution_count": 67,
   "id": "b66f5df0-c89d-4909-8302-987a604c1e5c",
   "metadata": {},
   "outputs": [],
   "source": [
    "def statver(R, RO):\n",
    "    q = []\n",
    "    q_K1 = ((R/(1-R) + nsum(lambda i: nsum(lambda k: R**k, [0,i]), [0,K-2]) + 1)/(RO + 1 - R**K) + 1)**(-1)\n",
    "    q_K = q_K1 / (RO + 1 - R**K)\n",
    "    Q_sum = 0\n",
    "    j = 0\n",
    "    while Q_sum < 1:\n",
    "        if 0 <= j <= K-2:\n",
    "            q_j = q_K1 * nsum(lambda i: R**i, [0,j]) / (RO + 1 - R**K)\n",
    "            q.insert(j, q_j)\n",
    "        elif j == K-1:\n",
    "            q_j = q_K1\n",
    "            q.insert(j, q_j)\n",
    "        elif j == K:\n",
    "            q_j = q_K\n",
    "            q.insert(j, q_j)\n",
    "        elif j > K:\n",
    "            q_j = q[K] * R**(j - K)\n",
    "            q.insert(j, q_j)\n",
    "        Q_sum += q_j\n",
    "        if Q_sum >= 0.999:\n",
    "            break\n",
    "        j += 1\n",
    "    return(q)"
   ]
  },
  {
   "cell_type": "code",
   "execution_count": 6,
   "id": "88350d31-e25b-4dfc-861d-e502d906d572",
   "metadata": {},
   "outputs": [],
   "source": [
    "def F(t, lm, a):    # Подынтегральная функция\n",
    "    return lm**a * t**(a-1)/(math.factorial(a-1))*np.exp(-lm*t)"
   ]
  },
  {
   "cell_type": "code",
   "execution_count": 25,
   "id": "68d12fb6-13f6-43fe-b73f-5124d0d4164b",
   "metadata": {},
   "outputs": [],
   "source": [
    "def ab(j):\n",
    "    if j == 0:\n",
    "        bj = 0\n",
    "        aj = K*(bj+1) - j\n",
    "    else:\n",
    "        bj = math.ceil(j // K)\n",
    "        aj = K * (bj+1) - j\n",
    "    return(aj, bj)"
   ]
  },
  {
   "cell_type": "code",
   "execution_count": 56,
   "id": "02877c30-913f-4f20-ad9b-88fef513fd1b",
   "metadata": {},
   "outputs": [],
   "source": [
    "def W_function(x, RO):  # Функция W(x)\n",
    "    R = root(RO)\n",
    "    q = statver(R,RO)\n",
    "    lya = RO / myu\n",
    "    if x <= 0:\n",
    "        return 0 \n",
    "    t = np.append(np.arange(0,x,dx),x)\n",
    "    j = 0\n",
    "    W_j = 0\n",
    "    aj, bj = ab(j)\n",
    "    while j < len(q):\n",
    "        if aj > 0 and bj > 0:\n",
    "            Ia = (dx/3)*(F(t[0],lya,aj)+2*np.sum(F(t[2:-2:2],lya,aj))+4*np.sum(F(t[1:-1:2],lya,aj))+F(t[-1], lya,aj))\n",
    "            Ib = (dx/3)*(F(t[0],myu,bj)+2*np.sum(F(t[2:-2:2],myu,bj))+4*np.sum(F(t[1:-1:2],myu,bj))+F(t[-1],myu,bj))\n",
    "            W_j += q[j]*Ia*Ib            \n",
    "                \n",
    "        if aj == 0 and bj > 0:\n",
    "            Ib = (dx/3)*(F(t[0],myu,bj)+2*np.sum(F(t[2:-2:2],myu,bj))+4*np.sum(F(t[1:-1:2],myu,bj))+F(t[-1],myu,bj))\n",
    "            W_j += q[j]*Ib            \n",
    "\n",
    "        if aj > 0 and bj == 0:\n",
    "            Ia = (dx/3)*(F(t[0],lya,aj)+2*np.sum(F(t[2:-2:2],lya,aj))+4*np.sum(F(t[1:-1:2],lya,aj))+F(t[-1], lya,aj))\n",
    "            W_j += q[j]*Ia            \n",
    "            \n",
    "        else:\n",
    "            W_j = 1\n",
    "        \n",
    "        j += 1\n",
    "        aj, bj = ab(j)\n",
    "            \n",
    "        if aj == bj == 0 or j > len(q):\n",
    "            break\n",
    "    \n",
    "    print(W_j)\n",
    "    return W_j"
   ]
  },
  {
   "cell_type": "code",
   "execution_count": 57,
   "id": "896605a9-fb4c-461f-97c5-4c81a3d2dd38",
   "metadata": {},
   "outputs": [],
   "source": [
    "x = np.linspace(0, 0.499, 100)\n",
    "ro = np.linspace(0, 0.499, 100)\n",
    "dx = 0.001"
   ]
  },
  {
   "cell_type": "code",
   "execution_count": 69,
   "id": "91c60d43-3fea-489c-b25a-636ce2dbe26a",
   "metadata": {},
   "outputs": [
    {
     "ename": "TypeError",
     "evalue": "can only concatenate list (not \"int\") to list",
     "output_type": "error",
     "traceback": [
      "\u001b[1;31m---------------------------------------------------------------------------\u001b[0m",
      "\u001b[1;31mTypeError\u001b[0m                                 Traceback (most recent call last)",
      "Cell \u001b[1;32mIn[69], line 3\u001b[0m\n\u001b[0;32m      1\u001b[0m \u001b[38;5;28;01mfor\u001b[39;00m i \u001b[38;5;129;01min\u001b[39;00m \u001b[38;5;28mrange\u001b[39m(\u001b[38;5;241m100\u001b[39m):\n\u001b[0;32m      2\u001b[0m     R \u001b[38;5;241m=\u001b[39m eq_R(ro[i])\n\u001b[1;32m----> 3\u001b[0m     Q \u001b[38;5;241m=\u001b[39m \u001b[43mstatver\u001b[49m\u001b[43m(\u001b[49m\u001b[43mro\u001b[49m\u001b[43m[\u001b[49m\u001b[43mi\u001b[49m\u001b[43m]\u001b[49m\u001b[43m,\u001b[49m\u001b[43m \u001b[49m\u001b[43mR\u001b[49m\u001b[43m)\u001b[49m\n\u001b[0;32m      4\u001b[0m     Q\n",
      "Cell \u001b[1;32mIn[67], line 3\u001b[0m, in \u001b[0;36mstatver\u001b[1;34m(R, RO)\u001b[0m\n\u001b[0;32m      1\u001b[0m \u001b[38;5;28;01mdef\u001b[39;00m \u001b[38;5;21mstatver\u001b[39m(R, RO):\n\u001b[0;32m      2\u001b[0m     q \u001b[38;5;241m=\u001b[39m []\n\u001b[1;32m----> 3\u001b[0m     q_K1 \u001b[38;5;241m=\u001b[39m ((R\u001b[38;5;241m/\u001b[39m(\u001b[38;5;241m1\u001b[39m\u001b[38;5;241m-\u001b[39mR) \u001b[38;5;241m+\u001b[39m nsum(\u001b[38;5;28;01mlambda\u001b[39;00m i: nsum(\u001b[38;5;28;01mlambda\u001b[39;00m k: R\u001b[38;5;241m*\u001b[39m\u001b[38;5;241m*\u001b[39mk, [\u001b[38;5;241m0\u001b[39m,i]), [\u001b[38;5;241m0\u001b[39m,K\u001b[38;5;241m-\u001b[39m\u001b[38;5;241m2\u001b[39m]) \u001b[38;5;241m+\u001b[39m \u001b[38;5;241m1\u001b[39m)\u001b[38;5;241m/\u001b[39m(\u001b[43mRO\u001b[49m\u001b[43m \u001b[49m\u001b[38;5;241;43m+\u001b[39;49m\u001b[43m \u001b[49m\u001b[38;5;241;43m1\u001b[39;49m \u001b[38;5;241m-\u001b[39m R\u001b[38;5;241m*\u001b[39m\u001b[38;5;241m*\u001b[39mK) \u001b[38;5;241m+\u001b[39m \u001b[38;5;241m1\u001b[39m)\u001b[38;5;241m*\u001b[39m\u001b[38;5;241m*\u001b[39m(\u001b[38;5;241m-\u001b[39m\u001b[38;5;241m1\u001b[39m)\n\u001b[0;32m      4\u001b[0m     q_K \u001b[38;5;241m=\u001b[39m q_K1 \u001b[38;5;241m/\u001b[39m (RO \u001b[38;5;241m+\u001b[39m \u001b[38;5;241m1\u001b[39m \u001b[38;5;241m-\u001b[39m R\u001b[38;5;241m*\u001b[39m\u001b[38;5;241m*\u001b[39mK)\n\u001b[0;32m      5\u001b[0m     Q_sum \u001b[38;5;241m=\u001b[39m \u001b[38;5;241m0\u001b[39m\n",
      "\u001b[1;31mTypeError\u001b[0m: can only concatenate list (not \"int\") to list"
     ]
    }
   ],
   "source": [
    "for i in range(100):\n",
    "    R = eq_R(ro[i])\n",
    "    Q = statver(ro[i], R)\n",
    "    Q"
   ]
  },
  {
   "cell_type": "code",
   "execution_count": 58,
   "id": "1fa2d89c-58e6-4686-8363-f5396eaff170",
   "metadata": {},
   "outputs": [],
   "source": [
    "X, Y = np.meshgrid(x, ro)"
   ]
  },
  {
   "cell_type": "code",
   "execution_count": 68,
   "id": "baa962ed-11e9-4a15-ac29-8ba89e13a8af",
   "metadata": {},
   "outputs": [
    {
     "name": "stdout",
     "output_type": "stream",
     "text": [
      "1\n",
      "1\n",
      "1\n",
      "1\n",
      "1\n",
      "1\n",
      "1\n",
      "1\n",
      "1\n"
     ]
    },
    {
     "ename": "KeyboardInterrupt",
     "evalue": "",
     "output_type": "error",
     "traceback": [
      "\u001b[1;31m---------------------------------------------------------------------------\u001b[0m",
      "\u001b[1;31mKeyError\u001b[0m                                  Traceback (most recent call last)",
      "File \u001b[1;32m~\\AppData\\Local\\Programs\\Python\\Python310\\lib\\site-packages\\sympy\\core\\evalf.py:1481\u001b[0m, in \u001b[0;36mevalf\u001b[1;34m(x, prec, options)\u001b[0m\n\u001b[0;32m   1480\u001b[0m \u001b[38;5;28;01mtry\u001b[39;00m:\n\u001b[1;32m-> 1481\u001b[0m     rf \u001b[38;5;241m=\u001b[39m \u001b[43mevalf_table\u001b[49m\u001b[43m[\u001b[49m\u001b[38;5;28;43mtype\u001b[39;49m\u001b[43m(\u001b[49m\u001b[43mx\u001b[49m\u001b[43m)\u001b[49m\u001b[43m]\u001b[49m\n\u001b[0;32m   1482\u001b[0m     r \u001b[38;5;241m=\u001b[39m rf(x, prec, options)\n",
      "\u001b[1;31mKeyError\u001b[0m: <class 'sympy.polys.rootoftools.ComplexRootOf'>",
      "\nDuring handling of the above exception, another exception occurred:\n",
      "\u001b[1;31mKeyboardInterrupt\u001b[0m                         Traceback (most recent call last)",
      "Cell \u001b[1;32mIn[68], line 3\u001b[0m\n\u001b[0;32m      1\u001b[0m \u001b[38;5;28;01mfor\u001b[39;00m i \u001b[38;5;129;01min\u001b[39;00m \u001b[38;5;28mrange\u001b[39m(\u001b[38;5;241m100\u001b[39m):\n\u001b[1;32m----> 3\u001b[0m     Z \u001b[38;5;241m=\u001b[39m \u001b[43mW_function\u001b[49m\u001b[43m(\u001b[49m\u001b[43mx\u001b[49m\u001b[43m[\u001b[49m\u001b[43mi\u001b[49m\u001b[43m]\u001b[49m\u001b[43m,\u001b[49m\u001b[43m \u001b[49m\u001b[43mro\u001b[49m\u001b[43m[\u001b[49m\u001b[43mi\u001b[49m\u001b[43m]\u001b[49m\u001b[43m)\u001b[49m\n",
      "Cell \u001b[1;32mIn[56], line 2\u001b[0m, in \u001b[0;36mW_function\u001b[1;34m(x, RO)\u001b[0m\n\u001b[0;32m      1\u001b[0m \u001b[38;5;28;01mdef\u001b[39;00m \u001b[38;5;21mW_function\u001b[39m(x, RO):  \u001b[38;5;66;03m# Функция W(x)\u001b[39;00m\n\u001b[1;32m----> 2\u001b[0m     R \u001b[38;5;241m=\u001b[39m \u001b[43mroot\u001b[49m\u001b[43m(\u001b[49m\u001b[43mRO\u001b[49m\u001b[43m)\u001b[49m\n\u001b[0;32m      3\u001b[0m     q \u001b[38;5;241m=\u001b[39m statver(R,RO)\n\u001b[0;32m      4\u001b[0m     lya \u001b[38;5;241m=\u001b[39m RO \u001b[38;5;241m/\u001b[39m myu\n",
      "Cell \u001b[1;32mIn[16], line 4\u001b[0m, in \u001b[0;36mroot\u001b[1;34m(ro)\u001b[0m\n\u001b[0;32m      2\u001b[0m sol \u001b[38;5;241m=\u001b[39m []\n\u001b[0;32m      3\u001b[0m R \u001b[38;5;241m=\u001b[39m []\n\u001b[1;32m----> 4\u001b[0m sol \u001b[38;5;241m=\u001b[39m \u001b[43meq_R\u001b[49m\u001b[43m(\u001b[49m\u001b[43mro\u001b[49m\u001b[43m)\u001b[49m\n\u001b[0;32m      5\u001b[0m \u001b[38;5;28;01mfor\u001b[39;00m k \u001b[38;5;129;01min\u001b[39;00m \u001b[38;5;28mrange\u001b[39m(\u001b[38;5;28mlen\u001b[39m(sol)):\n\u001b[0;32m      6\u001b[0m     \u001b[38;5;28;01mif\u001b[39;00m \u001b[38;5;28mabs\u001b[39m(sol[k]) \u001b[38;5;241m<\u001b[39m \u001b[38;5;241m1\u001b[39m:\n",
      "Cell \u001b[1;32mIn[3], line 3\u001b[0m, in \u001b[0;36meq_R\u001b[1;34m(p)\u001b[0m\n\u001b[0;32m      1\u001b[0m \u001b[38;5;28;01mdef\u001b[39;00m \u001b[38;5;21meq_R\u001b[39m(p):    \u001b[38;5;66;03m# Функция для нахождения корней комплексного уравнения\u001b[39;00m\n\u001b[0;32m      2\u001b[0m     x \u001b[38;5;241m=\u001b[39m sym\u001b[38;5;241m.\u001b[39mSymbol(\u001b[38;5;124m'\u001b[39m\u001b[38;5;124mx\u001b[39m\u001b[38;5;124m'\u001b[39m, real \u001b[38;5;241m=\u001b[39m \u001b[38;5;28;01mTrue\u001b[39;00m)\n\u001b[1;32m----> 3\u001b[0m     sol \u001b[38;5;241m=\u001b[39m \u001b[43msym\u001b[49m\u001b[38;5;241;43m.\u001b[39;49m\u001b[43msolve\u001b[49m\u001b[43m(\u001b[49m\u001b[43mx\u001b[49m\u001b[38;5;241;43m*\u001b[39;49m\u001b[38;5;241;43m*\u001b[39;49m\u001b[43m(\u001b[49m\u001b[43mK\u001b[49m\u001b[38;5;241;43m+\u001b[39;49m\u001b[38;5;241;43m1\u001b[39;49m\u001b[43m)\u001b[49m\u001b[43m \u001b[49m\u001b[38;5;241;43m-\u001b[39;49m\u001b[43m \u001b[49m\u001b[43m(\u001b[49m\u001b[43mp\u001b[49m\u001b[38;5;241;43m+\u001b[39;49m\u001b[38;5;241;43m1\u001b[39;49m\u001b[43m)\u001b[49m\u001b[43m \u001b[49m\u001b[38;5;241;43m*\u001b[39;49m\u001b[43m \u001b[49m\u001b[43mx\u001b[49m\u001b[43m \u001b[49m\u001b[38;5;241;43m+\u001b[39;49m\u001b[43m \u001b[49m\u001b[43mp\u001b[49m\u001b[43m,\u001b[49m\u001b[43m \u001b[49m\u001b[43mx\u001b[49m\u001b[43m)\u001b[49m\n\u001b[0;32m      4\u001b[0m     \u001b[38;5;28;01mreturn\u001b[39;00m sol\n",
      "File \u001b[1;32m~\\AppData\\Local\\Programs\\Python\\Python310\\lib\\site-packages\\sympy\\solvers\\solvers.py:1210\u001b[0m, in \u001b[0;36msolve\u001b[1;34m(f, *symbols, **flags)\u001b[0m\n\u001b[0;32m   1208\u001b[0m \u001b[38;5;66;03m# restore floats\u001b[39;00m\n\u001b[0;32m   1209\u001b[0m \u001b[38;5;28;01mif\u001b[39;00m floats \u001b[38;5;129;01mand\u001b[39;00m solution \u001b[38;5;129;01mand\u001b[39;00m flags\u001b[38;5;241m.\u001b[39mget(\u001b[38;5;124m'\u001b[39m\u001b[38;5;124mrational\u001b[39m\u001b[38;5;124m'\u001b[39m, \u001b[38;5;28;01mNone\u001b[39;00m) \u001b[38;5;129;01mis\u001b[39;00m \u001b[38;5;28;01mNone\u001b[39;00m:\n\u001b[1;32m-> 1210\u001b[0m     solution \u001b[38;5;241m=\u001b[39m \u001b[43mnfloat\u001b[49m\u001b[43m(\u001b[49m\u001b[43msolution\u001b[49m\u001b[43m,\u001b[49m\u001b[43m \u001b[49m\u001b[43mexponent\u001b[49m\u001b[38;5;241;43m=\u001b[39;49m\u001b[38;5;28;43;01mFalse\u001b[39;49;00m\u001b[43m)\u001b[49m\n\u001b[0;32m   1211\u001b[0m     \u001b[38;5;66;03m# nfloat might reveal more duplicates\u001b[39;00m\n\u001b[0;32m   1212\u001b[0m     solution \u001b[38;5;241m=\u001b[39m _remove_duplicate_solutions(solution)\n",
      "File \u001b[1;32m~\\AppData\\Local\\Programs\\Python\\Python310\\lib\\site-packages\\sympy\\core\\function.py:3339\u001b[0m, in \u001b[0;36mnfloat\u001b[1;34m(expr, n, exponent, dkeys)\u001b[0m\n\u001b[0;32m   3337\u001b[0m     \u001b[38;5;28;01melif\u001b[39;00m \u001b[38;5;28misinstance\u001b[39m(expr, Basic):\n\u001b[0;32m   3338\u001b[0m         \u001b[38;5;28;01mreturn\u001b[39;00m expr\u001b[38;5;241m.\u001b[39mfunc(\u001b[38;5;241m*\u001b[39m[nfloat(a, \u001b[38;5;241m*\u001b[39m\u001b[38;5;241m*\u001b[39mkw) \u001b[38;5;28;01mfor\u001b[39;00m a \u001b[38;5;129;01min\u001b[39;00m expr\u001b[38;5;241m.\u001b[39margs])\n\u001b[1;32m-> 3339\u001b[0m     \u001b[38;5;28;01mreturn\u001b[39;00m \u001b[38;5;28mtype\u001b[39m(expr)([nfloat(a, \u001b[38;5;241m*\u001b[39m\u001b[38;5;241m*\u001b[39mkw) \u001b[38;5;28;01mfor\u001b[39;00m a \u001b[38;5;129;01min\u001b[39;00m expr])\n\u001b[0;32m   3341\u001b[0m rv \u001b[38;5;241m=\u001b[39m sympify(expr)\n\u001b[0;32m   3343\u001b[0m \u001b[38;5;28;01mif\u001b[39;00m rv\u001b[38;5;241m.\u001b[39mis_Number:\n",
      "File \u001b[1;32m~\\AppData\\Local\\Programs\\Python\\Python310\\lib\\site-packages\\sympy\\core\\function.py:3339\u001b[0m, in \u001b[0;36m<listcomp>\u001b[1;34m(.0)\u001b[0m\n\u001b[0;32m   3337\u001b[0m     \u001b[38;5;28;01melif\u001b[39;00m \u001b[38;5;28misinstance\u001b[39m(expr, Basic):\n\u001b[0;32m   3338\u001b[0m         \u001b[38;5;28;01mreturn\u001b[39;00m expr\u001b[38;5;241m.\u001b[39mfunc(\u001b[38;5;241m*\u001b[39m[nfloat(a, \u001b[38;5;241m*\u001b[39m\u001b[38;5;241m*\u001b[39mkw) \u001b[38;5;28;01mfor\u001b[39;00m a \u001b[38;5;129;01min\u001b[39;00m expr\u001b[38;5;241m.\u001b[39margs])\n\u001b[1;32m-> 3339\u001b[0m     \u001b[38;5;28;01mreturn\u001b[39;00m \u001b[38;5;28mtype\u001b[39m(expr)([nfloat(a, \u001b[38;5;241m*\u001b[39m\u001b[38;5;241m*\u001b[39mkw) \u001b[38;5;28;01mfor\u001b[39;00m a \u001b[38;5;129;01min\u001b[39;00m expr])\n\u001b[0;32m   3341\u001b[0m rv \u001b[38;5;241m=\u001b[39m sympify(expr)\n\u001b[0;32m   3343\u001b[0m \u001b[38;5;28;01mif\u001b[39;00m rv\u001b[38;5;241m.\u001b[39mis_Number:\n",
      "File \u001b[1;32m~\\AppData\\Local\\Programs\\Python\\Python310\\lib\\site-packages\\sympy\\core\\function.py:3332\u001b[0m, in \u001b[0;36mnfloat\u001b[1;34m(expr, n, exponent, dkeys)\u001b[0m\n\u001b[0;32m   3329\u001b[0m     args \u001b[38;5;241m=\u001b[39m [\u001b[38;5;28mtuple\u001b[39m((nfloat(i, \u001b[38;5;241m*\u001b[39m\u001b[38;5;241m*\u001b[39mkw) \u001b[38;5;28;01mfor\u001b[39;00m i \u001b[38;5;129;01min\u001b[39;00m a))\n\u001b[0;32m   3330\u001b[0m         \u001b[38;5;28;01mfor\u001b[39;00m a \u001b[38;5;129;01min\u001b[39;00m expr\u001b[38;5;241m.\u001b[39mitems()]\n\u001b[0;32m   3331\u001b[0m \u001b[38;5;28;01melse\u001b[39;00m:\n\u001b[1;32m-> 3332\u001b[0m     args \u001b[38;5;241m=\u001b[39m [(k, nfloat(v, \u001b[38;5;241m*\u001b[39m\u001b[38;5;241m*\u001b[39mkw)) \u001b[38;5;28;01mfor\u001b[39;00m k, v \u001b[38;5;129;01min\u001b[39;00m expr\u001b[38;5;241m.\u001b[39mitems()]\n\u001b[0;32m   3333\u001b[0m \u001b[38;5;28;01mif\u001b[39;00m \u001b[38;5;28misinstance\u001b[39m(expr, \u001b[38;5;28mdict\u001b[39m):\n\u001b[0;32m   3334\u001b[0m     \u001b[38;5;28;01mreturn\u001b[39;00m \u001b[38;5;28mtype\u001b[39m(expr)(args)\n",
      "File \u001b[1;32m~\\AppData\\Local\\Programs\\Python\\Python310\\lib\\site-packages\\sympy\\core\\function.py:3332\u001b[0m, in \u001b[0;36m<listcomp>\u001b[1;34m(.0)\u001b[0m\n\u001b[0;32m   3329\u001b[0m     args \u001b[38;5;241m=\u001b[39m [\u001b[38;5;28mtuple\u001b[39m((nfloat(i, \u001b[38;5;241m*\u001b[39m\u001b[38;5;241m*\u001b[39mkw) \u001b[38;5;28;01mfor\u001b[39;00m i \u001b[38;5;129;01min\u001b[39;00m a))\n\u001b[0;32m   3330\u001b[0m         \u001b[38;5;28;01mfor\u001b[39;00m a \u001b[38;5;129;01min\u001b[39;00m expr\u001b[38;5;241m.\u001b[39mitems()]\n\u001b[0;32m   3331\u001b[0m \u001b[38;5;28;01melse\u001b[39;00m:\n\u001b[1;32m-> 3332\u001b[0m     args \u001b[38;5;241m=\u001b[39m [(k, nfloat(v, \u001b[38;5;241m*\u001b[39m\u001b[38;5;241m*\u001b[39mkw)) \u001b[38;5;28;01mfor\u001b[39;00m k, v \u001b[38;5;129;01min\u001b[39;00m expr\u001b[38;5;241m.\u001b[39mitems()]\n\u001b[0;32m   3333\u001b[0m \u001b[38;5;28;01mif\u001b[39;00m \u001b[38;5;28misinstance\u001b[39m(expr, \u001b[38;5;28mdict\u001b[39m):\n\u001b[0;32m   3334\u001b[0m     \u001b[38;5;28;01mreturn\u001b[39;00m \u001b[38;5;28mtype\u001b[39m(expr)(args)\n",
      "File \u001b[1;32m~\\AppData\\Local\\Programs\\Python\\Python310\\lib\\site-packages\\sympy\\core\\function.py:3347\u001b[0m, in \u001b[0;36mnfloat\u001b[1;34m(expr, n, exponent, dkeys)\u001b[0m\n\u001b[0;32m   3344\u001b[0m     \u001b[38;5;28;01mreturn\u001b[39;00m Float(rv, n)\n\u001b[0;32m   3345\u001b[0m \u001b[38;5;28;01melif\u001b[39;00m rv\u001b[38;5;241m.\u001b[39mis_number:\n\u001b[0;32m   3346\u001b[0m     \u001b[38;5;66;03m# evalf doesn't always set the precision\u001b[39;00m\n\u001b[1;32m-> 3347\u001b[0m     rv \u001b[38;5;241m=\u001b[39m \u001b[43mrv\u001b[49m\u001b[38;5;241;43m.\u001b[39;49m\u001b[43mn\u001b[49m\u001b[43m(\u001b[49m\u001b[43mn\u001b[49m\u001b[43m)\u001b[49m\n\u001b[0;32m   3348\u001b[0m     \u001b[38;5;28;01mif\u001b[39;00m rv\u001b[38;5;241m.\u001b[39mis_Number:\n\u001b[0;32m   3349\u001b[0m         rv \u001b[38;5;241m=\u001b[39m Float(rv\u001b[38;5;241m.\u001b[39mn(n), n)\n",
      "File \u001b[1;32m~\\AppData\\Local\\Programs\\Python\\Python310\\lib\\site-packages\\sympy\\core\\evalf.py:1647\u001b[0m, in \u001b[0;36mEvalfMixin.evalf\u001b[1;34m(self, n, subs, maxn, chop, strict, quad, verbose)\u001b[0m\n\u001b[0;32m   1645\u001b[0m     options[\u001b[38;5;124m'\u001b[39m\u001b[38;5;124mquad\u001b[39m\u001b[38;5;124m'\u001b[39m] \u001b[38;5;241m=\u001b[39m quad\n\u001b[0;32m   1646\u001b[0m \u001b[38;5;28;01mtry\u001b[39;00m:\n\u001b[1;32m-> 1647\u001b[0m     result \u001b[38;5;241m=\u001b[39m \u001b[43mevalf\u001b[49m\u001b[43m(\u001b[49m\u001b[38;5;28;43mself\u001b[39;49m\u001b[43m,\u001b[49m\u001b[43m \u001b[49m\u001b[43mprec\u001b[49m\u001b[43m \u001b[49m\u001b[38;5;241;43m+\u001b[39;49m\u001b[43m \u001b[49m\u001b[38;5;241;43m4\u001b[39;49m\u001b[43m,\u001b[49m\u001b[43m \u001b[49m\u001b[43moptions\u001b[49m\u001b[43m)\u001b[49m\n\u001b[0;32m   1648\u001b[0m \u001b[38;5;28;01mexcept\u001b[39;00m \u001b[38;5;167;01mNotImplementedError\u001b[39;00m:\n\u001b[0;32m   1649\u001b[0m     \u001b[38;5;66;03m# Fall back to the ordinary evalf\u001b[39;00m\n\u001b[0;32m   1650\u001b[0m     \u001b[38;5;28;01mif\u001b[39;00m \u001b[38;5;28mhasattr\u001b[39m(\u001b[38;5;28mself\u001b[39m, \u001b[38;5;124m'\u001b[39m\u001b[38;5;124msubs\u001b[39m\u001b[38;5;124m'\u001b[39m) \u001b[38;5;129;01mand\u001b[39;00m subs \u001b[38;5;129;01mis\u001b[39;00m \u001b[38;5;129;01mnot\u001b[39;00m \u001b[38;5;28;01mNone\u001b[39;00m:  \u001b[38;5;66;03m# issue 20291\u001b[39;00m\n",
      "File \u001b[1;32m~\\AppData\\Local\\Programs\\Python\\Python310\\lib\\site-packages\\sympy\\core\\evalf.py:1487\u001b[0m, in \u001b[0;36mevalf\u001b[1;34m(x, prec, options)\u001b[0m\n\u001b[0;32m   1485\u001b[0m \u001b[38;5;28;01mif\u001b[39;00m \u001b[38;5;124m'\u001b[39m\u001b[38;5;124msubs\u001b[39m\u001b[38;5;124m'\u001b[39m \u001b[38;5;129;01min\u001b[39;00m options:\n\u001b[0;32m   1486\u001b[0m     x \u001b[38;5;241m=\u001b[39m x\u001b[38;5;241m.\u001b[39msubs(evalf_subs(prec, options[\u001b[38;5;124m'\u001b[39m\u001b[38;5;124msubs\u001b[39m\u001b[38;5;124m'\u001b[39m]))\n\u001b[1;32m-> 1487\u001b[0m xe \u001b[38;5;241m=\u001b[39m \u001b[43mx\u001b[49m\u001b[38;5;241;43m.\u001b[39;49m\u001b[43m_eval_evalf\u001b[49m\u001b[43m(\u001b[49m\u001b[43mprec\u001b[49m\u001b[43m)\u001b[49m\n\u001b[0;32m   1488\u001b[0m \u001b[38;5;28;01mif\u001b[39;00m xe \u001b[38;5;129;01mis\u001b[39;00m \u001b[38;5;28;01mNone\u001b[39;00m:\n\u001b[0;32m   1489\u001b[0m     \u001b[38;5;28;01mraise\u001b[39;00m \u001b[38;5;167;01mNotImplementedError\u001b[39;00m\n",
      "File \u001b[1;32m~\\AppData\\Local\\Programs\\Python\\Python310\\lib\\site-packages\\sympy\\polys\\rootoftools.py:919\u001b[0m, in \u001b[0;36mComplexRootOf._eval_evalf\u001b[1;34m(self, prec, **kwargs)\u001b[0m\n\u001b[0;32m    917\u001b[0m \u001b[38;5;250m\u001b[39m\u001b[38;5;124;03m\"\"\"Evaluate this complex root to the given precision.\"\"\"\u001b[39;00m\n\u001b[0;32m    918\u001b[0m \u001b[38;5;66;03m# all kwargs are ignored\u001b[39;00m\n\u001b[1;32m--> 919\u001b[0m \u001b[38;5;28;01mreturn\u001b[39;00m \u001b[38;5;28;43mself\u001b[39;49m\u001b[38;5;241;43m.\u001b[39;49m\u001b[43meval_rational\u001b[49m\u001b[43m(\u001b[49m\u001b[43mn\u001b[49m\u001b[38;5;241;43m=\u001b[39;49m\u001b[43mprec_to_dps\u001b[49m\u001b[43m(\u001b[49m\u001b[43mprec\u001b[49m\u001b[43m)\u001b[49m\u001b[43m)\u001b[49m\u001b[38;5;241m.\u001b[39m_evalf(prec)\n",
      "File \u001b[1;32m~\\AppData\\Local\\Programs\\Python\\Python310\\lib\\site-packages\\sympy\\polys\\rootoftools.py:990\u001b[0m, in \u001b[0;36mComplexRootOf.eval_rational\u001b[1;34m(self, dx, dy, n)\u001b[0m\n\u001b[0;32m    988\u001b[0m     dx \u001b[38;5;241m=\u001b[39m \u001b[38;5;28mabs\u001b[39m(interval\u001b[38;5;241m.\u001b[39mcenter[\u001b[38;5;241m0\u001b[39m]\u001b[38;5;241m*\u001b[39mrtol)\n\u001b[0;32m    989\u001b[0m     dy \u001b[38;5;241m=\u001b[39m \u001b[38;5;28mabs\u001b[39m(interval\u001b[38;5;241m.\u001b[39mcenter[\u001b[38;5;241m1\u001b[39m]\u001b[38;5;241m*\u001b[39mrtol)\n\u001b[1;32m--> 990\u001b[0m interval \u001b[38;5;241m=\u001b[39m \u001b[43minterval\u001b[49m\u001b[38;5;241;43m.\u001b[39;49m\u001b[43mrefine_size\u001b[49m\u001b[43m(\u001b[49m\u001b[43mdx\u001b[49m\u001b[43m,\u001b[49m\u001b[43m \u001b[49m\u001b[43mdy\u001b[49m\u001b[43m)\u001b[49m\n\u001b[0;32m    991\u001b[0m c \u001b[38;5;241m=\u001b[39m interval\u001b[38;5;241m.\u001b[39mcenter\n\u001b[0;32m    992\u001b[0m real, imag \u001b[38;5;241m=\u001b[39m \u001b[38;5;28mmap\u001b[39m(Rational, c)\n",
      "File \u001b[1;32m~\\AppData\\Local\\Programs\\Python\\Python310\\lib\\site-packages\\sympy\\polys\\rootisolation.py:2183\u001b[0m, in \u001b[0;36mComplexInterval.refine_size\u001b[1;34m(self, dx, dy)\u001b[0m\n\u001b[0;32m   2181\u001b[0m expr \u001b[38;5;241m=\u001b[39m \u001b[38;5;28mself\u001b[39m\n\u001b[0;32m   2182\u001b[0m \u001b[38;5;28;01mwhile\u001b[39;00m \u001b[38;5;129;01mnot\u001b[39;00m (expr\u001b[38;5;241m.\u001b[39mdx \u001b[38;5;241m<\u001b[39m dx \u001b[38;5;129;01mand\u001b[39;00m expr\u001b[38;5;241m.\u001b[39mdy \u001b[38;5;241m<\u001b[39m dy):\n\u001b[1;32m-> 2183\u001b[0m     expr \u001b[38;5;241m=\u001b[39m \u001b[43mexpr\u001b[49m\u001b[38;5;241;43m.\u001b[39;49m\u001b[43m_inner_refine\u001b[49m\u001b[43m(\u001b[49m\u001b[43m)\u001b[49m\n\u001b[0;32m   2185\u001b[0m \u001b[38;5;28;01mreturn\u001b[39;00m expr\n",
      "File \u001b[1;32m~\\AppData\\Local\\Programs\\Python\\Python310\\lib\\site-packages\\sympy\\polys\\rootisolation.py:2160\u001b[0m, in \u001b[0;36mComplexInterval._inner_refine\u001b[1;34m(self)\u001b[0m\n\u001b[0;32m   2158\u001b[0m         _, a, b, I, Q, F1, F2 \u001b[38;5;241m=\u001b[39m D_R\n\u001b[0;32m   2159\u001b[0m \u001b[38;5;28;01melse\u001b[39;00m:\n\u001b[1;32m-> 2160\u001b[0m     D_B, D_U \u001b[38;5;241m=\u001b[39m \u001b[43m_horizontal_bisection\u001b[49m\u001b[43m(\u001b[49m\u001b[38;5;241;43m1\u001b[39;49m\u001b[43m,\u001b[49m\u001b[43m \u001b[49m\u001b[43m(\u001b[49m\u001b[43mu\u001b[49m\u001b[43m,\u001b[49m\u001b[43m \u001b[49m\u001b[43mv\u001b[49m\u001b[43m)\u001b[49m\u001b[43m,\u001b[49m\u001b[43m \u001b[49m\u001b[43m(\u001b[49m\u001b[43ms\u001b[49m\u001b[43m,\u001b[49m\u001b[43m \u001b[49m\u001b[43mt\u001b[49m\u001b[43m)\u001b[49m\u001b[43m,\u001b[49m\u001b[43m \u001b[49m\u001b[43mI\u001b[49m\u001b[43m,\u001b[49m\u001b[43m \u001b[49m\u001b[43mQ\u001b[49m\u001b[43m,\u001b[49m\u001b[43m \u001b[49m\u001b[43mF1\u001b[49m\u001b[43m,\u001b[49m\u001b[43m \u001b[49m\u001b[43mF2\u001b[49m\u001b[43m,\u001b[49m\u001b[43m \u001b[49m\u001b[43mf1\u001b[49m\u001b[43m,\u001b[49m\u001b[43m \u001b[49m\u001b[43mf2\u001b[49m\u001b[43m,\u001b[49m\u001b[43m \u001b[49m\u001b[43mdom\u001b[49m\u001b[43m)\u001b[49m\n\u001b[0;32m   2162\u001b[0m     \u001b[38;5;28;01mif\u001b[39;00m D_B[\u001b[38;5;241m0\u001b[39m] \u001b[38;5;241m==\u001b[39m \u001b[38;5;241m1\u001b[39m:\n\u001b[0;32m   2163\u001b[0m         _, a, b, I, Q, F1, F2 \u001b[38;5;241m=\u001b[39m D_B\n",
      "File \u001b[1;32m~\\AppData\\Local\\Programs\\Python\\Python310\\lib\\site-packages\\sympy\\polys\\rootisolation.py:1472\u001b[0m, in \u001b[0;36m_horizontal_bisection\u001b[1;34m(N, a, b, I, Q, F1, F2, f1, f2, F)\u001b[0m\n\u001b[0;32m   1469\u001b[0m f1H \u001b[38;5;241m=\u001b[39m dmp_eval_in(f1, y, \u001b[38;5;241m1\u001b[39m, \u001b[38;5;241m1\u001b[39m, F)\n\u001b[0;32m   1470\u001b[0m f2H \u001b[38;5;241m=\u001b[39m dmp_eval_in(f2, y, \u001b[38;5;241m1\u001b[39m, \u001b[38;5;241m1\u001b[39m, F)\n\u001b[1;32m-> 1472\u001b[0m I_H \u001b[38;5;241m=\u001b[39m \u001b[43mdup_isolate_real_roots_list\u001b[49m\u001b[43m(\u001b[49m\u001b[43m[\u001b[49m\u001b[43mf1H\u001b[49m\u001b[43m,\u001b[49m\u001b[43m \u001b[49m\u001b[43mf2H\u001b[49m\u001b[43m]\u001b[49m\u001b[43m,\u001b[49m\u001b[43m \u001b[49m\u001b[43mF\u001b[49m\u001b[43m,\u001b[49m\u001b[43m \u001b[49m\u001b[43minf\u001b[49m\u001b[38;5;241;43m=\u001b[39;49m\u001b[43mu\u001b[49m\u001b[43m,\u001b[49m\u001b[43m \u001b[49m\u001b[43msup\u001b[49m\u001b[38;5;241;43m=\u001b[39;49m\u001b[43ms\u001b[49m\u001b[43m,\u001b[49m\u001b[43m \u001b[49m\u001b[43mfast\u001b[49m\u001b[38;5;241;43m=\u001b[39;49m\u001b[38;5;28;43;01mTrue\u001b[39;49;00m\u001b[43m,\u001b[49m\u001b[43m \u001b[49m\u001b[43mstrict\u001b[49m\u001b[38;5;241;43m=\u001b[39;49m\u001b[38;5;28;43;01mTrue\u001b[39;49;00m\u001b[43m,\u001b[49m\u001b[43m \u001b[49m\u001b[43mbasis\u001b[49m\u001b[38;5;241;43m=\u001b[39;49m\u001b[38;5;28;43;01mTrue\u001b[39;49;00m\u001b[43m)\u001b[49m\n\u001b[0;32m   1474\u001b[0m I_L1_B, I_L1_U \u001b[38;5;241m=\u001b[39m I_L1, I_H\n\u001b[0;32m   1475\u001b[0m I_L2_B, I_L2_U \u001b[38;5;241m=\u001b[39m [], []\n",
      "File \u001b[1;32m~\\AppData\\Local\\Programs\\Python\\Python310\\lib\\site-packages\\sympy\\polys\\rootisolation.py:667\u001b[0m, in \u001b[0;36mdup_isolate_real_roots_list\u001b[1;34m(polys, K, eps, inf, sup, strict, basis, fast)\u001b[0m\n\u001b[0;32m    664\u001b[0m \u001b[38;5;28;01mif\u001b[39;00m zeros \u001b[38;5;129;01mand\u001b[39;00m j \u001b[38;5;241m>\u001b[39m \u001b[38;5;241m0\u001b[39m:\n\u001b[0;32m    665\u001b[0m     zero_indices[i] \u001b[38;5;241m=\u001b[39m j\n\u001b[1;32m--> 667\u001b[0m \u001b[38;5;28;01mfor\u001b[39;00m f, k \u001b[38;5;129;01min\u001b[39;00m \u001b[43mdup_factor_list\u001b[49m\u001b[43m(\u001b[49m\u001b[43mp\u001b[49m\u001b[43m,\u001b[49m\u001b[43m \u001b[49m\u001b[43mK\u001b[49m\u001b[43m)\u001b[49m[\u001b[38;5;241m1\u001b[39m]:\n\u001b[0;32m    668\u001b[0m     f \u001b[38;5;241m=\u001b[39m \u001b[38;5;28mtuple\u001b[39m(f)\n\u001b[0;32m    670\u001b[0m     \u001b[38;5;28;01mif\u001b[39;00m f \u001b[38;5;129;01mnot\u001b[39;00m \u001b[38;5;129;01min\u001b[39;00m factors_dict:\n",
      "File \u001b[1;32m~\\AppData\\Local\\Programs\\Python\\Python310\\lib\\site-packages\\sympy\\polys\\factortools.py:1342\u001b[0m, in \u001b[0;36mdup_factor_list\u001b[1;34m(f, K0)\u001b[0m\n\u001b[0;32m   1339\u001b[0m     K \u001b[38;5;241m=\u001b[39m K0\n\u001b[0;32m   1341\u001b[0m \u001b[38;5;28;01mif\u001b[39;00m K\u001b[38;5;241m.\u001b[39mis_ZZ:\n\u001b[1;32m-> 1342\u001b[0m     coeff, factors \u001b[38;5;241m=\u001b[39m \u001b[43mdup_zz_factor\u001b[49m\u001b[43m(\u001b[49m\u001b[43mf\u001b[49m\u001b[43m,\u001b[49m\u001b[43m \u001b[49m\u001b[43mK\u001b[49m\u001b[43m)\u001b[49m\n\u001b[0;32m   1343\u001b[0m \u001b[38;5;28;01melif\u001b[39;00m K\u001b[38;5;241m.\u001b[39mis_Poly:\n\u001b[0;32m   1344\u001b[0m     f, u \u001b[38;5;241m=\u001b[39m dmp_inject(f, \u001b[38;5;241m0\u001b[39m, K)\n",
      "File \u001b[1;32m~\\AppData\\Local\\Programs\\Python\\Python310\\lib\\site-packages\\sympy\\polys\\factortools.py:688\u001b[0m, in \u001b[0;36mdup_zz_factor\u001b[1;34m(f, K)\u001b[0m\n\u001b[0;32m    685\u001b[0m     H \u001b[38;5;241m=\u001b[39m dup_zz_cyclotomic_factor(g, K)\n\u001b[0;32m    687\u001b[0m \u001b[38;5;28;01mif\u001b[39;00m H \u001b[38;5;129;01mis\u001b[39;00m \u001b[38;5;28;01mNone\u001b[39;00m:\n\u001b[1;32m--> 688\u001b[0m     H \u001b[38;5;241m=\u001b[39m \u001b[43mdup_zz_zassenhaus\u001b[49m\u001b[43m(\u001b[49m\u001b[43mg\u001b[49m\u001b[43m,\u001b[49m\u001b[43m \u001b[49m\u001b[43mK\u001b[49m\u001b[43m)\u001b[49m\n\u001b[0;32m    690\u001b[0m factors \u001b[38;5;241m=\u001b[39m dup_trial_division(f, H, K)\n\u001b[0;32m    691\u001b[0m \u001b[38;5;28;01mreturn\u001b[39;00m cont, factors\n",
      "File \u001b[1;32m~\\AppData\\Local\\Programs\\Python\\Python310\\lib\\site-packages\\sympy\\polys\\factortools.py:342\u001b[0m, in \u001b[0;36mdup_zz_zassenhaus\u001b[1;34m(f, K)\u001b[0m\n\u001b[0;32m    338\u001b[0m px \u001b[38;5;241m=\u001b[39m K\u001b[38;5;241m.\u001b[39mconvert(px)\n\u001b[0;32m    340\u001b[0m F \u001b[38;5;241m=\u001b[39m gf_from_int_poly(f, px)\n\u001b[1;32m--> 342\u001b[0m \u001b[38;5;28;01mif\u001b[39;00m \u001b[38;5;129;01mnot\u001b[39;00m \u001b[43mgf_sqf_p\u001b[49m\u001b[43m(\u001b[49m\u001b[43mF\u001b[49m\u001b[43m,\u001b[49m\u001b[43m \u001b[49m\u001b[43mpx\u001b[49m\u001b[43m,\u001b[49m\u001b[43m \u001b[49m\u001b[43mK\u001b[49m\u001b[43m)\u001b[49m:\n\u001b[0;32m    343\u001b[0m     \u001b[38;5;28;01mcontinue\u001b[39;00m\n\u001b[0;32m    344\u001b[0m fsqfx \u001b[38;5;241m=\u001b[39m gf_factor_sqf(F, px, K)[\u001b[38;5;241m1\u001b[39m]\n",
      "File \u001b[1;32m~\\AppData\\Local\\Programs\\Python\\Python310\\lib\\site-packages\\sympy\\polys\\galoistools.py:1536\u001b[0m, in \u001b[0;36mgf_sqf_p\u001b[1;34m(f, p, K)\u001b[0m\n\u001b[0;32m   1534\u001b[0m     \u001b[38;5;28;01mreturn\u001b[39;00m \u001b[38;5;28;01mTrue\u001b[39;00m\n\u001b[0;32m   1535\u001b[0m \u001b[38;5;28;01melse\u001b[39;00m:\n\u001b[1;32m-> 1536\u001b[0m     \u001b[38;5;28;01mreturn\u001b[39;00m \u001b[43mgf_gcd\u001b[49m\u001b[43m(\u001b[49m\u001b[43mf\u001b[49m\u001b[43m,\u001b[49m\u001b[43m \u001b[49m\u001b[43mgf_diff\u001b[49m\u001b[43m(\u001b[49m\u001b[43mf\u001b[49m\u001b[43m,\u001b[49m\u001b[43m \u001b[49m\u001b[43mp\u001b[49m\u001b[43m,\u001b[49m\u001b[43m \u001b[49m\u001b[43mK\u001b[49m\u001b[43m)\u001b[49m\u001b[43m,\u001b[49m\u001b[43m \u001b[49m\u001b[43mp\u001b[49m\u001b[43m,\u001b[49m\u001b[43m \u001b[49m\u001b[43mK\u001b[49m\u001b[43m)\u001b[49m \u001b[38;5;241m==\u001b[39m [K\u001b[38;5;241m.\u001b[39mone]\n",
      "File \u001b[1;32m~\\AppData\\Local\\Programs\\Python\\Python310\\lib\\site-packages\\sympy\\polys\\galoistools.py:1022\u001b[0m, in \u001b[0;36mgf_gcd\u001b[1;34m(f, g, p, K)\u001b[0m\n\u001b[0;32m   1008\u001b[0m \u001b[38;5;250m\u001b[39m\u001b[38;5;124;03m\"\"\"\u001b[39;00m\n\u001b[0;32m   1009\u001b[0m \u001b[38;5;124;03mEuclidean Algorithm in ``GF(p)[x]``.\u001b[39;00m\n\u001b[0;32m   1010\u001b[0m \n\u001b[1;32m   (...)\u001b[0m\n\u001b[0;32m   1019\u001b[0m \n\u001b[0;32m   1020\u001b[0m \u001b[38;5;124;03m\"\"\"\u001b[39;00m\n\u001b[0;32m   1021\u001b[0m \u001b[38;5;28;01mwhile\u001b[39;00m g:\n\u001b[1;32m-> 1022\u001b[0m     f, g \u001b[38;5;241m=\u001b[39m g, \u001b[43mgf_rem\u001b[49m\u001b[43m(\u001b[49m\u001b[43mf\u001b[49m\u001b[43m,\u001b[49m\u001b[43m \u001b[49m\u001b[43mg\u001b[49m\u001b[43m,\u001b[49m\u001b[43m \u001b[49m\u001b[43mp\u001b[49m\u001b[43m,\u001b[49m\u001b[43m \u001b[49m\u001b[43mK\u001b[49m\u001b[43m)\u001b[49m\n\u001b[0;32m   1024\u001b[0m \u001b[38;5;28;01mreturn\u001b[39;00m gf_monic(f, p, K)[\u001b[38;5;241m1\u001b[39m]\n",
      "File \u001b[1;32m~\\AppData\\Local\\Programs\\Python\\Python310\\lib\\site-packages\\sympy\\polys\\galoistools.py:726\u001b[0m, in \u001b[0;36mgf_rem\u001b[1;34m(f, g, p, K)\u001b[0m\n\u001b[0;32m    712\u001b[0m \u001b[38;5;28;01mdef\u001b[39;00m \u001b[38;5;21mgf_rem\u001b[39m(f, g, p, K):\n\u001b[0;32m    713\u001b[0m \u001b[38;5;250m    \u001b[39m\u001b[38;5;124;03m\"\"\"\u001b[39;00m\n\u001b[0;32m    714\u001b[0m \u001b[38;5;124;03m    Compute polynomial remainder in ``GF(p)[x]``.\u001b[39;00m\n\u001b[0;32m    715\u001b[0m \n\u001b[1;32m   (...)\u001b[0m\n\u001b[0;32m    724\u001b[0m \n\u001b[0;32m    725\u001b[0m \u001b[38;5;124;03m    \"\"\"\u001b[39;00m\n\u001b[1;32m--> 726\u001b[0m     \u001b[38;5;28;01mreturn\u001b[39;00m \u001b[43mgf_div\u001b[49m\u001b[43m(\u001b[49m\u001b[43mf\u001b[49m\u001b[43m,\u001b[49m\u001b[43m \u001b[49m\u001b[43mg\u001b[49m\u001b[43m,\u001b[49m\u001b[43m \u001b[49m\u001b[43mp\u001b[49m\u001b[43m,\u001b[49m\u001b[43m \u001b[49m\u001b[43mK\u001b[49m\u001b[43m)\u001b[49m[\u001b[38;5;241m1\u001b[39m]\n",
      "File \u001b[1;32m~\\AppData\\Local\\Programs\\Python\\Python310\\lib\\site-packages\\sympy\\polys\\galoistools.py:694\u001b[0m, in \u001b[0;36mgf_div\u001b[1;34m(f, g, p, K)\u001b[0m\n\u001b[0;32m    691\u001b[0m \u001b[38;5;28;01melif\u001b[39;00m df \u001b[38;5;241m<\u001b[39m dg:\n\u001b[0;32m    692\u001b[0m     \u001b[38;5;28;01mreturn\u001b[39;00m [], f\n\u001b[1;32m--> 694\u001b[0m inv \u001b[38;5;241m=\u001b[39m \u001b[43mK\u001b[49m\u001b[38;5;241;43m.\u001b[39;49m\u001b[43minvert\u001b[49m\u001b[43m(\u001b[49m\u001b[43mg\u001b[49m\u001b[43m[\u001b[49m\u001b[38;5;241;43m0\u001b[39;49m\u001b[43m]\u001b[49m\u001b[43m,\u001b[49m\u001b[43m \u001b[49m\u001b[43mp\u001b[49m\u001b[43m)\u001b[49m\n\u001b[0;32m    696\u001b[0m h, dq, dr \u001b[38;5;241m=\u001b[39m \u001b[38;5;28mlist\u001b[39m(f), df \u001b[38;5;241m-\u001b[39m dg, dg \u001b[38;5;241m-\u001b[39m \u001b[38;5;241m1\u001b[39m\n\u001b[0;32m    698\u001b[0m \u001b[38;5;28;01mfor\u001b[39;00m i \u001b[38;5;129;01min\u001b[39;00m \u001b[38;5;28mrange\u001b[39m(\u001b[38;5;241m0\u001b[39m, df \u001b[38;5;241m+\u001b[39m \u001b[38;5;241m1\u001b[39m):\n",
      "File \u001b[1;32m~\\AppData\\Local\\Programs\\Python\\Python310\\lib\\site-packages\\sympy\\polys\\domains\\ring.py:40\u001b[0m, in \u001b[0;36mRing.invert\u001b[1;34m(self, a, b)\u001b[0m\n\u001b[0;32m     38\u001b[0m \u001b[38;5;28;01mdef\u001b[39;00m \u001b[38;5;21minvert\u001b[39m(\u001b[38;5;28mself\u001b[39m, a, b):\n\u001b[0;32m     39\u001b[0m \u001b[38;5;250m    \u001b[39m\u001b[38;5;124;03m\"\"\"Returns inversion of ``a mod b``. \"\"\"\u001b[39;00m\n\u001b[1;32m---> 40\u001b[0m     s, t, h \u001b[38;5;241m=\u001b[39m \u001b[38;5;28;43mself\u001b[39;49m\u001b[38;5;241;43m.\u001b[39;49m\u001b[43mgcdex\u001b[49m\u001b[43m(\u001b[49m\u001b[43ma\u001b[49m\u001b[43m,\u001b[49m\u001b[43m \u001b[49m\u001b[43mb\u001b[49m\u001b[43m)\u001b[49m\n\u001b[0;32m     42\u001b[0m     \u001b[38;5;28;01mif\u001b[39;00m \u001b[38;5;28mself\u001b[39m\u001b[38;5;241m.\u001b[39mis_one(h):\n\u001b[0;32m     43\u001b[0m         \u001b[38;5;28;01mreturn\u001b[39;00m s \u001b[38;5;241m%\u001b[39m b\n",
      "File \u001b[1;32m~\\AppData\\Local\\Programs\\Python\\Python310\\lib\\site-packages\\sympy\\polys\\domains\\integerring.py:208\u001b[0m, in \u001b[0;36mIntegerRing.gcdex\u001b[1;34m(self, a, b)\u001b[0m\n\u001b[0;32m    206\u001b[0m \u001b[38;5;28;01mdef\u001b[39;00m \u001b[38;5;21mgcdex\u001b[39m(\u001b[38;5;28mself\u001b[39m, a, b):\n\u001b[0;32m    207\u001b[0m \u001b[38;5;250m    \u001b[39m\u001b[38;5;124;03m\"\"\"Compute extended GCD of ``a`` and ``b``. \"\"\"\u001b[39;00m\n\u001b[1;32m--> 208\u001b[0m     h, s, t \u001b[38;5;241m=\u001b[39m \u001b[43mgcdex\u001b[49m\u001b[43m(\u001b[49m\u001b[43ma\u001b[49m\u001b[43m,\u001b[49m\u001b[43m \u001b[49m\u001b[43mb\u001b[49m\u001b[43m)\u001b[49m\n\u001b[0;32m    209\u001b[0m     \u001b[38;5;28;01mif\u001b[39;00m HAS_GMPY:\n\u001b[0;32m    210\u001b[0m         \u001b[38;5;28;01mreturn\u001b[39;00m s, t, h\n",
      "File \u001b[1;32m~\\AppData\\Local\\Programs\\Python\\Python310\\lib\\site-packages\\sympy\\core\\numbers.py:484\u001b[0m, in \u001b[0;36migcdex\u001b[1;34m(a, b)\u001b[0m\n\u001b[0;32m    480\u001b[0m     y_sign \u001b[38;5;241m=\u001b[39m \u001b[38;5;241m1\u001b[39m\n\u001b[0;32m    482\u001b[0m x, y, r, s \u001b[38;5;241m=\u001b[39m \u001b[38;5;241m1\u001b[39m, \u001b[38;5;241m0\u001b[39m, \u001b[38;5;241m0\u001b[39m, \u001b[38;5;241m1\u001b[39m\n\u001b[1;32m--> 484\u001b[0m \u001b[38;5;28;01mwhile\u001b[39;00m b:\n\u001b[0;32m    485\u001b[0m     (c, q) \u001b[38;5;241m=\u001b[39m (a \u001b[38;5;241m%\u001b[39m b, a \u001b[38;5;241m/\u001b[39m\u001b[38;5;241m/\u001b[39m b)\n\u001b[0;32m    486\u001b[0m     (a, b, r, s, x, y) \u001b[38;5;241m=\u001b[39m (b, c, x \u001b[38;5;241m-\u001b[39m q\u001b[38;5;241m*\u001b[39mr, y \u001b[38;5;241m-\u001b[39m q\u001b[38;5;241m*\u001b[39ms, r, s)\n",
      "\u001b[1;31mKeyboardInterrupt\u001b[0m: "
     ]
    }
   ],
   "source": [
    "for i in range(100):\n",
    "\n",
    "    Z = W_function(x[i], ro[i])"
   ]
  },
  {
   "cell_type": "code",
   "execution_count": null,
   "id": "0dc1a884-7105-4e21-b530-cd109d644264",
   "metadata": {},
   "outputs": [],
   "source": []
  }
 ],
 "metadata": {
  "kernelspec": {
   "display_name": "Python 3 (ipykernel)",
   "language": "python",
   "name": "python3"
  },
  "language_info": {
   "codemirror_mode": {
    "name": "ipython",
    "version": 3
   },
   "file_extension": ".py",
   "mimetype": "text/x-python",
   "name": "python",
   "nbconvert_exporter": "python",
   "pygments_lexer": "ipython3",
   "version": "3.10.7"
  }
 },
 "nbformat": 4,
 "nbformat_minor": 5
}
